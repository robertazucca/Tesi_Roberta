{
 "cells": [
  {
   "cell_type": "code",
   "execution_count": 6,
   "metadata": {},
   "outputs": [],
   "source": [
    "import json\n",
    "import pandas as pd\n",
    "import networkx as nx\n",
    "import matplotlib.pyplot as plt\n",
    "import matplotlib\n",
    "import operator\n",
    "import scipy\n",
    "import math\n",
    "\n",
    "import numpy as np\n",
    "import scipy as sp\n",
    "from  operator import itemgetter\n",
    "from scipy.stats import norm\n"
   ]
  },
  {
   "cell_type": "code",
   "execution_count": 7,
   "metadata": {},
   "outputs": [],
   "source": [
    "week_1_dates = [\"11-05-21\", \"12-05-21\", \"13-05-21\", \"14-05-21\", \"15-05-21\", \"16-05-21\"] \n",
    "week_2_dates = [\"17-05-21\", \"18-05-21\", \"19-05-21\", \"20-05-21\", \"21-05-21\", \"22-05-21\", \"23-05-21\"]\n",
    "week_3_dates = [\"24-05-21\", \"25-05-21\", \"26-05-21\", \"27-05-21\", \"28-05-21\", \"29-05-21\", \"30-05-21\"]\n",
    "week_4_dates = [\"31-05-21\", \"01-06-21\", \"02-06-21\", \"03-06-21\", \"04-06-21\", \"05-06-21\", \"06-06-21\"]\n",
    "week_5_dates = [\"07-06-21\", \"08-06-21\", \"09-06-21\", \"10-06-21\", \"11-06-21\", \"12-06-21\", \"13-06-21\"]\n",
    "week_6_dates = [\"14-06-21\", \"15-06-21\", \"16-06-21\", \"17-06-21\", \"18-06-21\", \"19-06-21\", \"20-06-21\"]\n",
    "\n",
    "\n",
    "dir_dataset = 'datasetMaggioSettembre/'\n",
    "files_dataset1 = ['ln_' + str(date) + '.json' for date in week_1_dates]\n",
    "files_dataset2 = ['ln_' + str(date) + '.json' for date in week_2_dates]\n",
    "files_dataset3 = ['ln_' + str(date) + '.json' for date in week_3_dates]\n",
    "files_dataset4 = ['ln_' + str(date) + '.json' for date in week_4_dates]\n",
    "files_dataset5 = ['ln_' + str(date) + '.json' for date in week_5_dates]\n",
    "files_dataset6 = ['ln_' + str(date) + '.json' for date in week_6_dates]\n",
    "\n",
    "\n",
    "dir_channels = 'datasetMaggioSettembre/channels/'"
   ]
  },
  {
   "cell_type": "code",
   "execution_count": 8,
   "metadata": {},
   "outputs": [
    {
     "name": "stdout",
     "output_type": "stream",
     "text": [
      "DF_CHANNELS LEN: 7268\n"
     ]
    },
    {
     "data": {
      "text/plain": [
       "1"
      ]
     },
     "metadata": {},
     "output_type": "display_data"
    },
    {
     "name": "stdout",
     "output_type": "stream",
     "text": [
      "DF_CHANNELS LEN: 7264\n",
      "Numero di canali nel file unione: 7268\n",
      "In comune tra il giorno corrente e il file unione: 7264\n",
      "DF_CHANNELS LEN: 7264\n",
      "Numero di canali diversi nel nuovo file: 0\n",
      "Numero di canali totali dopo questa iterazione 7268\n"
     ]
    },
    {
     "data": {
      "text/plain": [
       "2"
      ]
     },
     "metadata": {},
     "output_type": "display_data"
    },
    {
     "name": "stdout",
     "output_type": "stream",
     "text": [
      "DF_CHANNELS LEN: 7263\n",
      "Numero di canali nel file unione: 7268\n",
      "In comune tra il giorno corrente e il file unione: 7263\n",
      "DF_CHANNELS LEN: 7263\n",
      "Numero di canali diversi nel nuovo file: 0\n",
      "Numero di canali totali dopo questa iterazione 7268\n"
     ]
    },
    {
     "data": {
      "text/plain": [
       "3"
      ]
     },
     "metadata": {},
     "output_type": "display_data"
    },
    {
     "name": "stdout",
     "output_type": "stream",
     "text": [
      "DF_CHANNELS LEN: 7261\n",
      "Numero di canali nel file unione: 7268\n",
      "In comune tra il giorno corrente e il file unione: 7261\n",
      "DF_CHANNELS LEN: 7261\n",
      "Numero di canali diversi nel nuovo file: 0\n",
      "Numero di canali totali dopo questa iterazione 7268\n"
     ]
    },
    {
     "data": {
      "text/plain": [
       "4"
      ]
     },
     "metadata": {},
     "output_type": "display_data"
    },
    {
     "name": "stdout",
     "output_type": "stream",
     "text": [
      "DF_CHANNELS LEN: 7256\n",
      "Numero di canali nel file unione: 7268\n",
      "In comune tra il giorno corrente e il file unione: 7256\n",
      "DF_CHANNELS LEN: 7256\n",
      "Numero di canali diversi nel nuovo file: 0\n",
      "Numero di canali totali dopo questa iterazione 7268\n"
     ]
    },
    {
     "data": {
      "text/plain": [
       "5"
      ]
     },
     "metadata": {},
     "output_type": "display_data"
    },
    {
     "name": "stdout",
     "output_type": "stream",
     "text": [
      "DF_CHANNELS LEN: 7254\n",
      "Numero di canali nel file unione: 7268\n",
      "In comune tra il giorno corrente e il file unione: 7254\n",
      "DF_CHANNELS LEN: 7254\n",
      "Numero di canali diversi nel nuovo file: 0\n",
      "Numero di canali totali dopo questa iterazione 7268\n"
     ]
    },
    {
     "data": {
      "text/plain": [
       "6"
      ]
     },
     "metadata": {},
     "output_type": "display_data"
    }
   ],
   "source": [
    "i = 0\n",
    "\n",
    "for filename in files_dataset1:\n",
    "\n",
    "    with open (dir_channels+'channels_' + filename) as data_file:    \n",
    "        data_channels = json.load(data_file)\n",
    "    df_channels = pd.json_normalize(data_channels)\n",
    "    print(\"DF_CHANNELS LEN:\" ,len(df_channels))\n",
    "\n",
    "    i+=1\n",
    "\n",
    "    if i == 1:\n",
    "        \n",
    "        #il file non esiste, quindi sto considerando il primo giorno e devo solo inserire nel file unione tutti i canali del primo file\n",
    "        df_allchannels = df_channels\n",
    "        display(i)\n",
    "        #display(df_allchannels)\n",
    "    \n",
    "    else:\n",
    "        #il file esiste, devo aggiungere i canali che ancora non ho     \n",
    "        print(\"Numero di canali nel file unione:\", len(df_allchannels))\n",
    "\n",
    "        #prendo i canali del nuovo dataset che sono anche nel file unione\n",
    "        in_common = df_channels[df_channels[\"channel_id\"].isin(df_allchannels[\"channel_id\"])]\n",
    "        print(\"In comune tra il giorno corrente e il file unione:\" ,len(in_common))\n",
    "        print(\"DF_CHANNELS LEN:\" ,len(df_channels))\n",
    "\n",
    "\n",
    "        #a questo punto devo prendere i canali aperti del file del giorno, che non si trovano nel grande file, ed aggiungerli\n",
    "        df_channels_copy = df_channels.copy()\n",
    "        df_diff_channels = df_channels_copy[~df_channels_copy['channel_id'].isin(df_allchannels[\"channel_id\"])]\n",
    "        print(\"Numero di canali diversi nel nuovo file:\", len(df_diff_channels))\n",
    "\n",
    "        #creo il nuovo file mettendo insieme tutti i vecchi + quelli nuovi che ancora non erano nel file unione\n",
    "        new_df = pd.concat([df_allchannels, df_diff_channels])\n",
    "        print(\"Numero di canali totali dopo questa iterazione\", len(new_df))\n",
    "\n",
    "        display(i)\n",
    "        df_allchannels = new_df\n",
    "\n",
    "#memorizzo su file in formato json\n",
    "to_write = df_allchannels.to_json(orient='records', indent = 1)\n",
    "with open(dir_dataset + 'unione_channels/'+ 'week1.json', \"w\") as f:\n",
    "    f.write(to_write)"
   ]
  },
  {
   "cell_type": "code",
   "execution_count": 9,
   "metadata": {},
   "outputs": [
    {
     "name": "stdout",
     "output_type": "stream",
     "text": [
      "DF_CHANNELS LEN: 7254\n"
     ]
    },
    {
     "data": {
      "text/plain": [
       "1"
      ]
     },
     "metadata": {},
     "output_type": "display_data"
    },
    {
     "name": "stdout",
     "output_type": "stream",
     "text": [
      "DF_CHANNELS LEN: 7244\n",
      "Numero di canali nel file unione: 7254\n",
      "In comune tra il giorno corrente e il file unione: 7244\n",
      "DF_CHANNELS LEN: 7244\n",
      "Numero di canali diversi nel nuovo file: 0\n",
      "Numero di canali totali dopo questa iterazione 7254\n"
     ]
    },
    {
     "data": {
      "text/plain": [
       "2"
      ]
     },
     "metadata": {},
     "output_type": "display_data"
    },
    {
     "name": "stdout",
     "output_type": "stream",
     "text": [
      "DF_CHANNELS LEN: 7243\n",
      "Numero di canali nel file unione: 7254\n",
      "In comune tra il giorno corrente e il file unione: 7243\n",
      "DF_CHANNELS LEN: 7243\n",
      "Numero di canali diversi nel nuovo file: 0\n",
      "Numero di canali totali dopo questa iterazione 7254\n"
     ]
    },
    {
     "data": {
      "text/plain": [
       "3"
      ]
     },
     "metadata": {},
     "output_type": "display_data"
    },
    {
     "name": "stdout",
     "output_type": "stream",
     "text": [
      "DF_CHANNELS LEN: 7242\n",
      "Numero di canali nel file unione: 7254\n",
      "In comune tra il giorno corrente e il file unione: 7242\n",
      "DF_CHANNELS LEN: 7242\n",
      "Numero di canali diversi nel nuovo file: 0\n",
      "Numero di canali totali dopo questa iterazione 7254\n"
     ]
    },
    {
     "data": {
      "text/plain": [
       "4"
      ]
     },
     "metadata": {},
     "output_type": "display_data"
    },
    {
     "name": "stdout",
     "output_type": "stream",
     "text": [
      "DF_CHANNELS LEN: 7241\n",
      "Numero di canali nel file unione: 7254\n",
      "In comune tra il giorno corrente e il file unione: 7241\n",
      "DF_CHANNELS LEN: 7241\n",
      "Numero di canali diversi nel nuovo file: 0\n",
      "Numero di canali totali dopo questa iterazione 7254\n"
     ]
    },
    {
     "data": {
      "text/plain": [
       "5"
      ]
     },
     "metadata": {},
     "output_type": "display_data"
    },
    {
     "name": "stdout",
     "output_type": "stream",
     "text": [
      "DF_CHANNELS LEN: 7239\n",
      "Numero di canali nel file unione: 7254\n",
      "In comune tra il giorno corrente e il file unione: 7239\n",
      "DF_CHANNELS LEN: 7239\n",
      "Numero di canali diversi nel nuovo file: 0\n",
      "Numero di canali totali dopo questa iterazione 7254\n"
     ]
    },
    {
     "data": {
      "text/plain": [
       "6"
      ]
     },
     "metadata": {},
     "output_type": "display_data"
    },
    {
     "name": "stdout",
     "output_type": "stream",
     "text": [
      "DF_CHANNELS LEN: 7233\n",
      "Numero di canali nel file unione: 7254\n",
      "In comune tra il giorno corrente e il file unione: 7233\n",
      "DF_CHANNELS LEN: 7233\n",
      "Numero di canali diversi nel nuovo file: 0\n",
      "Numero di canali totali dopo questa iterazione 7254\n"
     ]
    },
    {
     "data": {
      "text/plain": [
       "7"
      ]
     },
     "metadata": {},
     "output_type": "display_data"
    }
   ],
   "source": [
    "i = 0\n",
    "\n",
    "for filename in files_dataset2:\n",
    "\n",
    "    with open (dir_channels+'channels_' + filename) as data_file:    \n",
    "        data_channels = json.load(data_file)\n",
    "    df_channels = pd.json_normalize(data_channels)\n",
    "    print(\"DF_CHANNELS LEN:\" ,len(df_channels))\n",
    "\n",
    "    i+=1\n",
    "\n",
    "    if i == 1:\n",
    "        \n",
    "        #il file non esiste, quindi sto considerando il primo giorno e devo solo inserire nel file unione tutti i canali del primo file\n",
    "        df_allchannels = df_channels\n",
    "        display(i)\n",
    "        #display(df_allchannels)\n",
    "    \n",
    "    else:\n",
    "        #il file esiste, devo aggiungere i canali che ancora non ho     \n",
    "        print(\"Numero di canali nel file unione:\", len(df_allchannels))\n",
    "\n",
    "        #prendo i canali del nuovo dataset che sono anche nel file unione\n",
    "        in_common = df_channels[df_channels[\"channel_id\"].isin(df_allchannels[\"channel_id\"])]\n",
    "        print(\"In comune tra il giorno corrente e il file unione:\" ,len(in_common))\n",
    "        print(\"DF_CHANNELS LEN:\" ,len(df_channels))\n",
    "\n",
    "\n",
    "        #a questo punto devo prendere i canali aperti del file del giorno, che non si trovano nel grande file, ed aggiungerli\n",
    "        df_channels_copy = df_channels.copy()\n",
    "        df_diff_channels = df_channels_copy[~df_channels_copy['channel_id'].isin(df_allchannels[\"channel_id\"])]\n",
    "        print(\"Numero di canali diversi nel nuovo file:\", len(df_diff_channels))\n",
    "\n",
    "        #creo il nuovo file mettendo insieme tutti i vecchi + quelli nuovi che ancora non erano nel file unione\n",
    "        new_df = pd.concat([df_allchannels, df_diff_channels])\n",
    "        print(\"Numero di canali totali dopo questa iterazione\", len(new_df))\n",
    "\n",
    "        display(i)\n",
    "        df_allchannels = new_df\n",
    "\n",
    "#memorizzo su file in formato json\n",
    "to_write = df_allchannels.to_json(orient='records', indent = 1)\n",
    "with open(dir_dataset + 'unione_channels/'+ 'week2.json', \"w\") as f:\n",
    "    f.write(to_write)"
   ]
  },
  {
   "cell_type": "code",
   "execution_count": 10,
   "metadata": {},
   "outputs": [
    {
     "name": "stdout",
     "output_type": "stream",
     "text": [
      "DF_CHANNELS LEN: 7228\n"
     ]
    },
    {
     "data": {
      "text/plain": [
       "1"
      ]
     },
     "metadata": {},
     "output_type": "display_data"
    },
    {
     "name": "stdout",
     "output_type": "stream",
     "text": [
      "DF_CHANNELS LEN: 7225\n",
      "Numero di canali nel file unione: 7228\n",
      "In comune tra il giorno corrente e il file unione: 7225\n",
      "DF_CHANNELS LEN: 7225\n",
      "Numero di canali diversi nel nuovo file: 0\n",
      "Numero di canali totali dopo questa iterazione 7228\n"
     ]
    },
    {
     "data": {
      "text/plain": [
       "2"
      ]
     },
     "metadata": {},
     "output_type": "display_data"
    },
    {
     "name": "stdout",
     "output_type": "stream",
     "text": [
      "DF_CHANNELS LEN: 7217\n",
      "Numero di canali nel file unione: 7228\n",
      "In comune tra il giorno corrente e il file unione: 7217\n",
      "DF_CHANNELS LEN: 7217\n",
      "Numero di canali diversi nel nuovo file: 0\n",
      "Numero di canali totali dopo questa iterazione 7228\n"
     ]
    },
    {
     "data": {
      "text/plain": [
       "3"
      ]
     },
     "metadata": {},
     "output_type": "display_data"
    },
    {
     "name": "stdout",
     "output_type": "stream",
     "text": [
      "DF_CHANNELS LEN: 7214\n",
      "Numero di canali nel file unione: 7228\n",
      "In comune tra il giorno corrente e il file unione: 7214\n",
      "DF_CHANNELS LEN: 7214\n",
      "Numero di canali diversi nel nuovo file: 0\n",
      "Numero di canali totali dopo questa iterazione 7228\n"
     ]
    },
    {
     "data": {
      "text/plain": [
       "4"
      ]
     },
     "metadata": {},
     "output_type": "display_data"
    },
    {
     "name": "stdout",
     "output_type": "stream",
     "text": [
      "DF_CHANNELS LEN: 7212\n",
      "Numero di canali nel file unione: 7228\n",
      "In comune tra il giorno corrente e il file unione: 7212\n",
      "DF_CHANNELS LEN: 7212\n",
      "Numero di canali diversi nel nuovo file: 0\n",
      "Numero di canali totali dopo questa iterazione 7228\n"
     ]
    },
    {
     "data": {
      "text/plain": [
       "5"
      ]
     },
     "metadata": {},
     "output_type": "display_data"
    },
    {
     "name": "stdout",
     "output_type": "stream",
     "text": [
      "DF_CHANNELS LEN: 7210\n",
      "Numero di canali nel file unione: 7228\n",
      "In comune tra il giorno corrente e il file unione: 7210\n",
      "DF_CHANNELS LEN: 7210\n",
      "Numero di canali diversi nel nuovo file: 0\n",
      "Numero di canali totali dopo questa iterazione 7228\n"
     ]
    },
    {
     "data": {
      "text/plain": [
       "6"
      ]
     },
     "metadata": {},
     "output_type": "display_data"
    },
    {
     "name": "stdout",
     "output_type": "stream",
     "text": [
      "DF_CHANNELS LEN: 7206\n",
      "Numero di canali nel file unione: 7228\n",
      "In comune tra il giorno corrente e il file unione: 7206\n",
      "DF_CHANNELS LEN: 7206\n",
      "Numero di canali diversi nel nuovo file: 0\n",
      "Numero di canali totali dopo questa iterazione 7228\n"
     ]
    },
    {
     "data": {
      "text/plain": [
       "7"
      ]
     },
     "metadata": {},
     "output_type": "display_data"
    }
   ],
   "source": [
    "i = 0\n",
    "\n",
    "for filename in files_dataset3:\n",
    "\n",
    "    with open (dir_channels+'channels_' + filename) as data_file:    \n",
    "        data_channels = json.load(data_file)\n",
    "    df_channels = pd.json_normalize(data_channels)\n",
    "    print(\"DF_CHANNELS LEN:\" ,len(df_channels))\n",
    "\n",
    "    i+=1\n",
    "\n",
    "    if i == 1:\n",
    "        \n",
    "        #il file non esiste, quindi sto considerando il primo giorno e devo solo inserire nel file unione tutti i canali del primo file\n",
    "        df_allchannels = df_channels\n",
    "        display(i)\n",
    "        #display(df_allchannels)\n",
    "    \n",
    "    else:\n",
    "        #il file esiste, devo aggiungere i canali che ancora non ho     \n",
    "        print(\"Numero di canali nel file unione:\", len(df_allchannels))\n",
    "\n",
    "        #prendo i canali del nuovo dataset che sono anche nel file unione\n",
    "        in_common = df_channels[df_channels[\"channel_id\"].isin(df_allchannels[\"channel_id\"])]\n",
    "        print(\"In comune tra il giorno corrente e il file unione:\" ,len(in_common))\n",
    "        print(\"DF_CHANNELS LEN:\" ,len(df_channels))\n",
    "\n",
    "\n",
    "        #a questo punto devo prendere i canali aperti del file del giorno, che non si trovano nel grande file, ed aggiungerli\n",
    "        df_channels_copy = df_channels.copy()\n",
    "        df_diff_channels = df_channels_copy[~df_channels_copy['channel_id'].isin(df_allchannels[\"channel_id\"])]\n",
    "        print(\"Numero di canali diversi nel nuovo file:\", len(df_diff_channels))\n",
    "\n",
    "        #creo il nuovo file mettendo insieme tutti i vecchi + quelli nuovi che ancora non erano nel file unione\n",
    "        new_df = pd.concat([df_allchannels, df_diff_channels])\n",
    "        print(\"Numero di canali totali dopo questa iterazione\", len(new_df))\n",
    "\n",
    "        display(i)\n",
    "        df_allchannels = new_df\n",
    "\n",
    "#memorizzo su file in formato json\n",
    "to_write = df_allchannels.to_json(orient='records', indent = 1)\n",
    "with open(dir_dataset + 'unione_channels/'+ 'week3.json', \"w\") as f:\n",
    "    f.write(to_write)"
   ]
  },
  {
   "cell_type": "code",
   "execution_count": 11,
   "metadata": {},
   "outputs": [
    {
     "name": "stdout",
     "output_type": "stream",
     "text": [
      "DF_CHANNELS LEN: 7204\n"
     ]
    },
    {
     "data": {
      "text/plain": [
       "1"
      ]
     },
     "metadata": {},
     "output_type": "display_data"
    },
    {
     "name": "stdout",
     "output_type": "stream",
     "text": [
      "DF_CHANNELS LEN: 7202\n",
      "Numero di canali nel file unione: 7204\n",
      "In comune tra il giorno corrente e il file unione: 7202\n",
      "DF_CHANNELS LEN: 7202\n",
      "Numero di canali diversi nel nuovo file: 0\n",
      "Numero di canali totali dopo questa iterazione 7204\n"
     ]
    },
    {
     "data": {
      "text/plain": [
       "2"
      ]
     },
     "metadata": {},
     "output_type": "display_data"
    },
    {
     "name": "stdout",
     "output_type": "stream",
     "text": [
      "DF_CHANNELS LEN: 7163\n",
      "Numero di canali nel file unione: 7204\n",
      "In comune tra il giorno corrente e il file unione: 7163\n",
      "DF_CHANNELS LEN: 7163\n",
      "Numero di canali diversi nel nuovo file: 0\n",
      "Numero di canali totali dopo questa iterazione 7204\n"
     ]
    },
    {
     "data": {
      "text/plain": [
       "3"
      ]
     },
     "metadata": {},
     "output_type": "display_data"
    },
    {
     "name": "stdout",
     "output_type": "stream",
     "text": [
      "DF_CHANNELS LEN: 7159\n",
      "Numero di canali nel file unione: 7204\n",
      "In comune tra il giorno corrente e il file unione: 7159\n",
      "DF_CHANNELS LEN: 7159\n",
      "Numero di canali diversi nel nuovo file: 0\n",
      "Numero di canali totali dopo questa iterazione 7204\n"
     ]
    },
    {
     "data": {
      "text/plain": [
       "4"
      ]
     },
     "metadata": {},
     "output_type": "display_data"
    },
    {
     "name": "stdout",
     "output_type": "stream",
     "text": [
      "DF_CHANNELS LEN: 7152\n",
      "Numero di canali nel file unione: 7204\n",
      "In comune tra il giorno corrente e il file unione: 7152\n",
      "DF_CHANNELS LEN: 7152\n",
      "Numero di canali diversi nel nuovo file: 0\n",
      "Numero di canali totali dopo questa iterazione 7204\n"
     ]
    },
    {
     "data": {
      "text/plain": [
       "5"
      ]
     },
     "metadata": {},
     "output_type": "display_data"
    },
    {
     "name": "stdout",
     "output_type": "stream",
     "text": [
      "DF_CHANNELS LEN: 7151\n",
      "Numero di canali nel file unione: 7204\n",
      "In comune tra il giorno corrente e il file unione: 7151\n",
      "DF_CHANNELS LEN: 7151\n",
      "Numero di canali diversi nel nuovo file: 0\n",
      "Numero di canali totali dopo questa iterazione 7204\n"
     ]
    },
    {
     "data": {
      "text/plain": [
       "6"
      ]
     },
     "metadata": {},
     "output_type": "display_data"
    },
    {
     "name": "stdout",
     "output_type": "stream",
     "text": [
      "DF_CHANNELS LEN: 7141\n",
      "Numero di canali nel file unione: 7204\n",
      "In comune tra il giorno corrente e il file unione: 7141\n",
      "DF_CHANNELS LEN: 7141\n",
      "Numero di canali diversi nel nuovo file: 0\n",
      "Numero di canali totali dopo questa iterazione 7204\n"
     ]
    },
    {
     "data": {
      "text/plain": [
       "7"
      ]
     },
     "metadata": {},
     "output_type": "display_data"
    }
   ],
   "source": [
    "i = 0\n",
    "\n",
    "for filename in files_dataset4:\n",
    "\n",
    "    with open (dir_channels+'channels_' + filename) as data_file:    \n",
    "        data_channels = json.load(data_file)\n",
    "    df_channels = pd.json_normalize(data_channels)\n",
    "    print(\"DF_CHANNELS LEN:\" ,len(df_channels))\n",
    "\n",
    "    i+=1\n",
    "\n",
    "    if i == 1:\n",
    "        \n",
    "        #il file non esiste, quindi sto considerando il primo giorno e devo solo inserire nel file unione tutti i canali del primo file\n",
    "        df_allchannels = df_channels\n",
    "        display(i)\n",
    "        #display(df_allchannels)\n",
    "    \n",
    "    else:\n",
    "        #il file esiste, devo aggiungere i canali che ancora non ho     \n",
    "        print(\"Numero di canali nel file unione:\", len(df_allchannels))\n",
    "\n",
    "        #prendo i canali del nuovo dataset che sono anche nel file unione\n",
    "        in_common = df_channels[df_channels[\"channel_id\"].isin(df_allchannels[\"channel_id\"])]\n",
    "        print(\"In comune tra il giorno corrente e il file unione:\" ,len(in_common))\n",
    "        print(\"DF_CHANNELS LEN:\" ,len(df_channels))\n",
    "\n",
    "\n",
    "        #a questo punto devo prendere i canali aperti del file del giorno, che non si trovano nel grande file, ed aggiungerli\n",
    "        df_channels_copy = df_channels.copy()\n",
    "        df_diff_channels = df_channels_copy[~df_channels_copy['channel_id'].isin(df_allchannels[\"channel_id\"])]\n",
    "        print(\"Numero di canali diversi nel nuovo file:\", len(df_diff_channels))\n",
    "\n",
    "        #creo il nuovo file mettendo insieme tutti i vecchi + quelli nuovi che ancora non erano nel file unione\n",
    "        new_df = pd.concat([df_allchannels, df_diff_channels])\n",
    "        print(\"Numero di canali totali dopo questa iterazione\", len(new_df))\n",
    "\n",
    "        display(i)\n",
    "        df_allchannels = new_df\n",
    "\n",
    "#memorizzo su file in formato json\n",
    "to_write = df_allchannels.to_json(orient='records', indent = 1)\n",
    "with open(dir_dataset + 'unione_channels/'+ 'week4.json', \"w\") as f:\n",
    "    f.write(to_write)"
   ]
  },
  {
   "cell_type": "code",
   "execution_count": 12,
   "metadata": {},
   "outputs": [
    {
     "name": "stdout",
     "output_type": "stream",
     "text": [
      "DF_CHANNELS LEN: 7141\n"
     ]
    },
    {
     "data": {
      "text/plain": [
       "1"
      ]
     },
     "metadata": {},
     "output_type": "display_data"
    },
    {
     "name": "stdout",
     "output_type": "stream",
     "text": [
      "DF_CHANNELS LEN: 7131\n",
      "Numero di canali nel file unione: 7141\n",
      "In comune tra il giorno corrente e il file unione: 7131\n",
      "DF_CHANNELS LEN: 7131\n",
      "Numero di canali diversi nel nuovo file: 0\n",
      "Numero di canali totali dopo questa iterazione 7141\n"
     ]
    },
    {
     "data": {
      "text/plain": [
       "2"
      ]
     },
     "metadata": {},
     "output_type": "display_data"
    },
    {
     "name": "stdout",
     "output_type": "stream",
     "text": [
      "DF_CHANNELS LEN: 7130\n",
      "Numero di canali nel file unione: 7141\n",
      "In comune tra il giorno corrente e il file unione: 7130\n",
      "DF_CHANNELS LEN: 7130\n",
      "Numero di canali diversi nel nuovo file: 0\n",
      "Numero di canali totali dopo questa iterazione 7141\n"
     ]
    },
    {
     "data": {
      "text/plain": [
       "3"
      ]
     },
     "metadata": {},
     "output_type": "display_data"
    },
    {
     "name": "stdout",
     "output_type": "stream",
     "text": [
      "DF_CHANNELS LEN: 7130\n",
      "Numero di canali nel file unione: 7141\n",
      "In comune tra il giorno corrente e il file unione: 7130\n",
      "DF_CHANNELS LEN: 7130\n",
      "Numero di canali diversi nel nuovo file: 0\n",
      "Numero di canali totali dopo questa iterazione 7141\n"
     ]
    },
    {
     "data": {
      "text/plain": [
       "4"
      ]
     },
     "metadata": {},
     "output_type": "display_data"
    },
    {
     "name": "stdout",
     "output_type": "stream",
     "text": [
      "DF_CHANNELS LEN: 7129\n",
      "Numero di canali nel file unione: 7141\n",
      "In comune tra il giorno corrente e il file unione: 7129\n",
      "DF_CHANNELS LEN: 7129\n",
      "Numero di canali diversi nel nuovo file: 0\n",
      "Numero di canali totali dopo questa iterazione 7141\n"
     ]
    },
    {
     "data": {
      "text/plain": [
       "5"
      ]
     },
     "metadata": {},
     "output_type": "display_data"
    },
    {
     "name": "stdout",
     "output_type": "stream",
     "text": [
      "DF_CHANNELS LEN: 7128\n",
      "Numero di canali nel file unione: 7141\n",
      "In comune tra il giorno corrente e il file unione: 7128\n",
      "DF_CHANNELS LEN: 7128\n",
      "Numero di canali diversi nel nuovo file: 0\n",
      "Numero di canali totali dopo questa iterazione 7141\n"
     ]
    },
    {
     "data": {
      "text/plain": [
       "6"
      ]
     },
     "metadata": {},
     "output_type": "display_data"
    },
    {
     "name": "stdout",
     "output_type": "stream",
     "text": [
      "DF_CHANNELS LEN: 7127\n",
      "Numero di canali nel file unione: 7141\n",
      "In comune tra il giorno corrente e il file unione: 7127\n",
      "DF_CHANNELS LEN: 7127\n",
      "Numero di canali diversi nel nuovo file: 0\n",
      "Numero di canali totali dopo questa iterazione 7141\n"
     ]
    },
    {
     "data": {
      "text/plain": [
       "7"
      ]
     },
     "metadata": {},
     "output_type": "display_data"
    }
   ],
   "source": [
    "i = 0\n",
    "\n",
    "for filename in files_dataset5:\n",
    "\n",
    "    with open (dir_channels+'channels_' + filename) as data_file:    \n",
    "        data_channels = json.load(data_file)\n",
    "    df_channels = pd.json_normalize(data_channels)\n",
    "    print(\"DF_CHANNELS LEN:\" ,len(df_channels))\n",
    "\n",
    "    i+=1\n",
    "\n",
    "    if i == 1:\n",
    "        \n",
    "        #il file non esiste, quindi sto considerando il primo giorno e devo solo inserire nel file unione tutti i canali del primo file\n",
    "        df_allchannels = df_channels\n",
    "        display(i)\n",
    "        #display(df_allchannels)\n",
    "    \n",
    "    else:\n",
    "        #il file esiste, devo aggiungere i canali che ancora non ho     \n",
    "        print(\"Numero di canali nel file unione:\", len(df_allchannels))\n",
    "\n",
    "        #prendo i canali del nuovo dataset che sono anche nel file unione\n",
    "        in_common = df_channels[df_channels[\"channel_id\"].isin(df_allchannels[\"channel_id\"])]\n",
    "        print(\"In comune tra il giorno corrente e il file unione:\" ,len(in_common))\n",
    "        print(\"DF_CHANNELS LEN:\" ,len(df_channels))\n",
    "\n",
    "\n",
    "        #a questo punto devo prendere i canali aperti del file del giorno, che non si trovano nel grande file, ed aggiungerli\n",
    "        df_channels_copy = df_channels.copy()\n",
    "        df_diff_channels = df_channels_copy[~df_channels_copy['channel_id'].isin(df_allchannels[\"channel_id\"])]\n",
    "        print(\"Numero di canali diversi nel nuovo file:\", len(df_diff_channels))\n",
    "\n",
    "        #creo il nuovo file mettendo insieme tutti i vecchi + quelli nuovi che ancora non erano nel file unione\n",
    "        new_df = pd.concat([df_allchannels, df_diff_channels])\n",
    "        print(\"Numero di canali totali dopo questa iterazione\", len(new_df))\n",
    "\n",
    "        display(i)\n",
    "        df_allchannels = new_df\n",
    "\n",
    "#memorizzo su file in formato json\n",
    "to_write = df_allchannels.to_json(orient='records', indent = 1)\n",
    "with open(dir_dataset + 'unione_channels/'+ 'week5.json', \"w\") as f:\n",
    "    f.write(to_write)"
   ]
  },
  {
   "cell_type": "code",
   "execution_count": 13,
   "metadata": {},
   "outputs": [
    {
     "name": "stdout",
     "output_type": "stream",
     "text": [
      "DF_CHANNELS LEN: 7125\n"
     ]
    },
    {
     "data": {
      "text/plain": [
       "1"
      ]
     },
     "metadata": {},
     "output_type": "display_data"
    },
    {
     "name": "stdout",
     "output_type": "stream",
     "text": [
      "DF_CHANNELS LEN: 7123\n",
      "Numero di canali nel file unione: 7125\n",
      "In comune tra il giorno corrente e il file unione: 7123\n",
      "DF_CHANNELS LEN: 7123\n",
      "Numero di canali diversi nel nuovo file: 0\n",
      "Numero di canali totali dopo questa iterazione 7125\n"
     ]
    },
    {
     "data": {
      "text/plain": [
       "2"
      ]
     },
     "metadata": {},
     "output_type": "display_data"
    },
    {
     "name": "stdout",
     "output_type": "stream",
     "text": [
      "DF_CHANNELS LEN: 7123\n",
      "Numero di canali nel file unione: 7125\n",
      "In comune tra il giorno corrente e il file unione: 7123\n",
      "DF_CHANNELS LEN: 7123\n",
      "Numero di canali diversi nel nuovo file: 0\n",
      "Numero di canali totali dopo questa iterazione 7125\n"
     ]
    },
    {
     "data": {
      "text/plain": [
       "3"
      ]
     },
     "metadata": {},
     "output_type": "display_data"
    },
    {
     "name": "stdout",
     "output_type": "stream",
     "text": [
      "DF_CHANNELS LEN: 7121\n",
      "Numero di canali nel file unione: 7125\n",
      "In comune tra il giorno corrente e il file unione: 7121\n",
      "DF_CHANNELS LEN: 7121\n",
      "Numero di canali diversi nel nuovo file: 0\n",
      "Numero di canali totali dopo questa iterazione 7125\n"
     ]
    },
    {
     "data": {
      "text/plain": [
       "4"
      ]
     },
     "metadata": {},
     "output_type": "display_data"
    },
    {
     "name": "stdout",
     "output_type": "stream",
     "text": [
      "DF_CHANNELS LEN: 7120\n",
      "Numero di canali nel file unione: 7125\n",
      "In comune tra il giorno corrente e il file unione: 7120\n",
      "DF_CHANNELS LEN: 7120\n",
      "Numero di canali diversi nel nuovo file: 0\n",
      "Numero di canali totali dopo questa iterazione 7125\n"
     ]
    },
    {
     "data": {
      "text/plain": [
       "5"
      ]
     },
     "metadata": {},
     "output_type": "display_data"
    },
    {
     "name": "stdout",
     "output_type": "stream",
     "text": [
      "DF_CHANNELS LEN: 7120\n",
      "Numero di canali nel file unione: 7125\n",
      "In comune tra il giorno corrente e il file unione: 7120\n",
      "DF_CHANNELS LEN: 7120\n",
      "Numero di canali diversi nel nuovo file: 0\n",
      "Numero di canali totali dopo questa iterazione 7125\n"
     ]
    },
    {
     "data": {
      "text/plain": [
       "6"
      ]
     },
     "metadata": {},
     "output_type": "display_data"
    },
    {
     "name": "stdout",
     "output_type": "stream",
     "text": [
      "DF_CHANNELS LEN: 7118\n",
      "Numero di canali nel file unione: 7125\n",
      "In comune tra il giorno corrente e il file unione: 7118\n",
      "DF_CHANNELS LEN: 7118\n",
      "Numero di canali diversi nel nuovo file: 0\n",
      "Numero di canali totali dopo questa iterazione 7125\n"
     ]
    },
    {
     "data": {
      "text/plain": [
       "7"
      ]
     },
     "metadata": {},
     "output_type": "display_data"
    }
   ],
   "source": [
    "i = 0\n",
    "\n",
    "for filename in files_dataset6:\n",
    "\n",
    "    with open (dir_channels+'channels_' + filename) as data_file:    \n",
    "        data_channels = json.load(data_file)\n",
    "    df_channels = pd.json_normalize(data_channels)\n",
    "    print(\"DF_CHANNELS LEN:\" ,len(df_channels))\n",
    "\n",
    "    i+=1\n",
    "\n",
    "    if i == 1:\n",
    "        \n",
    "        #il file non esiste, quindi sto considerando il primo giorno e devo solo inserire nel file unione tutti i canali del primo file\n",
    "        df_allchannels = df_channels\n",
    "        display(i)\n",
    "        #display(df_allchannels)\n",
    "    \n",
    "    else:\n",
    "        #il file esiste, devo aggiungere i canali che ancora non ho     \n",
    "        print(\"Numero di canali nel file unione:\", len(df_allchannels))\n",
    "\n",
    "        #prendo i canali del nuovo dataset che sono anche nel file unione\n",
    "        in_common = df_channels[df_channels[\"channel_id\"].isin(df_allchannels[\"channel_id\"])]\n",
    "        print(\"In comune tra il giorno corrente e il file unione:\" ,len(in_common))\n",
    "        print(\"DF_CHANNELS LEN:\" ,len(df_channels))\n",
    "\n",
    "\n",
    "        #a questo punto devo prendere i canali aperti del file del giorno, che non si trovano nel grande file, ed aggiungerli\n",
    "        df_channels_copy = df_channels.copy()\n",
    "        df_diff_channels = df_channels_copy[~df_channels_copy['channel_id'].isin(df_allchannels[\"channel_id\"])]\n",
    "        print(\"Numero di canali diversi nel nuovo file:\", len(df_diff_channels))\n",
    "\n",
    "        #creo il nuovo file mettendo insieme tutti i vecchi + quelli nuovi che ancora non erano nel file unione\n",
    "        new_df = pd.concat([df_allchannels, df_diff_channels])\n",
    "        print(\"Numero di canali totali dopo questa iterazione\", len(new_df))\n",
    "\n",
    "        display(i)\n",
    "        df_allchannels = new_df\n",
    "\n",
    "#memorizzo su file in formato json\n",
    "to_write = df_allchannels.to_json(orient='records', indent = 1)\n",
    "with open(dir_dataset + 'unione_channels/'+ 'week6.json', \"w\") as f:\n",
    "    f.write(to_write)"
   ]
  }
 ],
 "metadata": {
  "interpreter": {
   "hash": "90e315135b2281b752a7f250632c791a0dae1003299eabe9b8abad9d58b3e8e7"
  },
  "kernelspec": {
   "display_name": "Python 3.8.8 64-bit ('base': conda)",
   "language": "python",
   "name": "python3"
  },
  "language_info": {
   "codemirror_mode": {
    "name": "ipython",
    "version": 3
   },
   "file_extension": ".py",
   "mimetype": "text/x-python",
   "name": "python",
   "nbconvert_exporter": "python",
   "pygments_lexer": "ipython3",
   "version": "3.8.8"
  },
  "orig_nbformat": 4
 },
 "nbformat": 4,
 "nbformat_minor": 2
}
