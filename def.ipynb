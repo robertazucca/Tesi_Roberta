{
 "cells": [
  {
   "cell_type": "code",
   "execution_count": 2,
   "source": [
    "import json\r\n",
    "import pandas as pd\r\n",
    "import networkx as nx\r\n",
    "import matplotlib.pyplot as plt\r\n",
    "import matplotlib\r\n",
    "import numpy as np\r\n",
    "import collections\r\n",
    "from collections import Counter\r\n",
    "from statistics import mean #per la media\r\n",
    "\r\n",
    "from grafici import htlc_distribution, feebase_distribution, feerate_distribution, double_hist_fee"
   ],
   "outputs": [],
   "metadata": {}
  },
  {
   "cell_type": "code",
   "execution_count": 3,
   "source": [
    "#leggo il grafo dal file .gml \r\n",
    "#ln = nx.read_gml('output\\grafi\\grafodef.gml')\r\n",
    "\r\n",
    "ln = nx.read_gml('output\\grafi\\multigrafo.gml')"
   ],
   "outputs": [],
   "metadata": {}
  },
  {
   "cell_type": "code",
   "execution_count": 4,
   "source": [
    "numnodi = ln.number_of_nodes()\r\n",
    "numarchi = ln.number_of_edges()\r\n",
    "\r\n",
    "print(numnodi)\r\n",
    "print(numarchi)"
   ],
   "outputs": [
    {
     "output_type": "stream",
     "name": "stdout",
     "text": [
      "11044\n",
      "42974\n"
     ]
    }
   ],
   "metadata": {}
  },
  {
   "cell_type": "markdown",
   "source": [
    "# ***ANALISI DISTRIBUZIONI FEE***"
   ],
   "metadata": {}
  },
  {
   "cell_type": "markdown",
   "source": [
    "### *Def:*\r\n",
    "### **min_htcl:** *valore minimo (espresso in msat) per cui un nodo è disposto a fare il forward di un pagamento*\r\n",
    "### **fee_base:**  *tariffa fissa (espressa in mSat) addebitata su ogni transazione instradata attraverso un certo nodo*\r\n",
    "### **fee_rate:** : *millisatoshi aggiuntivi richiesti per ogni milione di satoshi inviati*\r\n",
    "\r\n"
   ],
   "metadata": {}
  },
  {
   "cell_type": "code",
   "execution_count": 4,
   "source": [
    "#per calcolare le distribuzioni\r\n",
    "\r\n",
    "htlc1 = [int(c) for (u, v, c) in ln.edges.data('MINHTLC1') ]\r\n",
    "htlc2 = [int(c) for (u, v, c) in ln.edges.data('MINHTLC2')]\r\n",
    "htlc = htlc1+htlc2 \r\n",
    "feebase1 = [c for (u, v, c) in ln.edges.data('FEEBASE1')]\r\n",
    "feebase2 = [c for (u, v, c) in ln.edges.data('FEEBASE2')]\r\n",
    "feebase = feebase1 + feebase2\r\n",
    "feerate1 = [int(c) for (u, v, c) in ln.edges.data('FEERATE1')]\r\n",
    "feerate2 = [int(c) for (u, v, c) in ln.edges.data('FEERATE2')]\r\n",
    "feerate = feerate1 + feerate2"
   ],
   "outputs": [],
   "metadata": {}
  },
  {
   "cell_type": "code",
   "execution_count": 7,
   "source": [
    "htlccounter = collections.Counter(htlc)\r\n",
    "feebasecounter = collections.Counter(feebase)\r\n",
    "fee2 = collections.Counter(feerate2)\r\n",
    "feeratecounter = collections.Counter(feerate)"
   ],
   "outputs": [],
   "metadata": {}
  },
  {
   "cell_type": "markdown",
   "source": [
    "### **HTLC**"
   ],
   "metadata": {}
  },
  {
   "cell_type": "code",
   "execution_count": 5,
   "source": [
    "#calcolo istogramma della distrubuzione dei valori di htlc\r\n",
    "htlc_distribution(htlc)\r\n",
    "#plt.savefig('output\\immg\\htlc.png')"
   ],
   "outputs": [
    {
     "output_type": "display_data",
     "data": {
      "image/png": "[encoded data removed]",
      "text/plain": [
       "<Figure size 936x432 with 1 Axes>"
      ]
     },
     "metadata": {
      "needs_background": "light"
     }
    }
   ],
   "metadata": {}
  },
  {
   "cell_type": "code",
   "execution_count": 8,
   "source": [
    "#percentuali htlc nei canali \r\n",
    "\r\n",
    "zero = 0\r\n",
    "uno = 0\r\n",
    "dieci = 0\r\n",
    "cento = 0\r\n",
    "mille = 0\r\n",
    "centok = 0\r\n",
    "milione = 0\r\n",
    "dieciM = 0\r\n",
    "centoM = 0\r\n",
    "\r\n",
    "\r\n",
    "for key in htlccounter.keys():\r\n",
    "    #if int(key) <= 0 :\r\n",
    "    #    zero += htclcounter[key]\r\n",
    "    if int(key) <= 1 and int(key) >= 0:\r\n",
    "        uno += htlccounter[key]\r\n",
    "    if int(key) <= 10 :\r\n",
    "        dieci += htlccounter[key]\r\n",
    "    if int(key) <= 100 :\r\n",
    "        cento += htlccounter[key]\r\n",
    "    if int(key) == 1000 :\r\n",
    "        mille += htlccounter[key]\r\n",
    "#   if int(key) <= 10000 :\r\n",
    "#       diecimila += htclcounter[key]\r\n",
    "    if int(key) <= 100000 :\r\n",
    "        centok += htlccounter[key]\r\n",
    "    if int(key) <= 1000000 :\r\n",
    "        milione+= htlccounter[key]\r\n",
    "    if int(key) <= 10000000 :\r\n",
    "        dieciM+= htlccounter[key] \r\n",
    "    if int(key) <= 100000000 :\r\n",
    "        centoM+= htlccounter[key]\r\n",
    "        \r\n",
    "print(\"La percentuale di canali con minhtlc <= 1 è \", str(round(uno*100/len(htlc),3)), \"%\")\r\n",
    "print(\"La percentuale di canali con minhtlc <= 10 è \", str(round(dieci*100/len(htlc),3)), \"%\")\r\n",
    "print(\"La percentuale di canali con minhtlc <= 100 è \", str(round(cento*100/len(htlc),3)), \"%\")\r\n",
    "print(\"La percentuale di canali con minhtlc <= 1000 è \", str(round(mille*100/len(htlc),3)), \"%\")\r\n",
    "#print(\"La percentuale di canali con minhtcl <= 10000 è \", str(round(diecimila*100/len(htcl1),3)), \"%\")\r\n",
    "print(\"La percentuale di canali con minhtlc <= 100000 è \", str(round(centok*100/len(htlc),3)), \"%\")\r\n",
    "print(\"La percentuale di canali con minhtlc <= 1000000 è \", str(round(milione*100/len(htlc),3)), \"%\")\r\n",
    "print(\"La percentuale di canali con minhtlc <= 10000000 è \", str(round(dieciM*100/len(htlc),3)), \"%\")\r\n",
    "print(\"La percentuale di canali con minhtlc <= 100000000 è \", str(round(centoM*100/len(htlc),3)), \"%\")\r\n"
   ],
   "outputs": [
    {
     "output_type": "stream",
     "name": "stdout",
     "text": [
      "La percentuale di canali con minhtlc <= 1 è  12.359 %\n",
      "La percentuale di canali con minhtlc <= 10 è  25.574 %\n",
      "La percentuale di canali con minhtlc <= 100 è  25.723 %\n",
      "La percentuale di canali con minhtlc <= 1000 è  72.424 %\n",
      "La percentuale di canali con minhtlc <= 100000 è  99.948 %\n",
      "La percentuale di canali con minhtlc <= 1000000 è  99.979 %\n",
      "La percentuale di canali con minhtlc <= 10000000 è  99.994 %\n",
      "La percentuale di canali con minhtlc <= 100000000 è  100.0 %\n"
     ]
    }
   ],
   "metadata": {}
  },
  {
   "cell_type": "markdown",
   "source": [
    "### **FEE_BASE**"
   ],
   "metadata": {}
  },
  {
   "cell_type": "code",
   "execution_count": 13,
   "source": [
    "feebase_distribution(feebase)\r\n",
    "#plt.savefig('feebase.png')\r\n"
   ],
   "outputs": [
    {
     "output_type": "display_data",
     "data": {
      "image/png": "[encoded data removed]",
      "text/plain": [
       "<Figure size 936x432 with 1 Axes>"
      ]
     },
     "metadata": {
      "needs_background": "light"
     }
    }
   ],
   "metadata": {}
  },
  {
   "cell_type": "code",
   "execution_count": 14,
   "source": [
    "uno = 0\r\n",
    "dieci = 0\r\n",
    "cento = 0\r\n",
    "mille = 0\r\n",
    "diecik = 0\r\n",
    "centok = 0\r\n",
    "milione = 0\r\n",
    "dieciM = 0\r\n",
    "centoM = 0\r\n",
    "miliardo = 0\r\n",
    "\r\n",
    "for key in feebasecounter.keys():\r\n",
    "    if int(key) <= 1 :\r\n",
    "        uno += feebasecounter[key]\r\n",
    "    if int(key) <= 10 :\r\n",
    "        dieci += feebasecounter[key]\r\n",
    "    if int(key) <= 100 :\r\n",
    "        cento += feebasecounter[key]\r\n",
    "    if int(key) <= 1000 :\r\n",
    "        mille += feebasecounter[key]\r\n",
    "    if int(key) <= 100000 :\r\n",
    "        centok += feebasecounter[key]\r\n",
    "    if int(key) <= 1000000 :\r\n",
    "        milione += feebasecounter[key]\r\n",
    "    if int(key) <= 10000000 :\r\n",
    "        dieciM += feebasecounter[key]\r\n",
    "    if int(key) <= 100000000:\r\n",
    "        centoM += feebasecounter[key]\r\n",
    "    if int(key) <= 1000000000 :\r\n",
    "        miliardo += feebasecounter[key]\r\n",
    "        \r\n",
    "        \r\n",
    "print(\"La percentuale di canali con feebase <= 1 è \", str(round(uno*100/len(feebase),3)), \"%\")\r\n",
    "print(\"La percentuale di canali con feebase <= 10 è \", str(round(dieci*100/len(feebase),3)), \"%\")\r\n",
    "print(\"La percentuale di canali con feebase <= 100 è \", str(round(cento*100/len(feebase),3)), \"%\")\r\n",
    "print(\"La percentuale di canali con feebase <= 1000 è \", str(round(mille*100/len(feebase),3)), \"%\")\r\n",
    "#print(\"La percentuale di canali con feebase <= 10000 è \", str(round(diecimila*100/len(feerate),3)), \"%\")\r\n",
    "print(\"La percentuale di canali con feebase <= 100000 è \", str(round(centok*100/len(feebase),3)), \"%\")\r\n",
    "print(\"La percentuale di canali con feebase <= 1000000 è \", str(round(milione*100/len(feebase),3)), \"%\")\r\n",
    "print(\"La percentuale di canali con feebase <= 10000000 è \", str(round(dieciM*100/len(feebase),3)), \"%\")\r\n",
    "print(\"La percentuale di canali con feebase <= 100000000 è \", str(round(centoM*100/len(feebase),3)), \"%\")\r\n",
    "print(\"La percentuale di canali con feebase <= 1000000000 è \", str(round(miliardo*100/len(feebase),3)), \"%\")"
   ],
   "outputs": [
    {
     "output_type": "stream",
     "name": "stdout",
     "text": [
      "La percentuale di canali con feebase <= 1 è  31.271 %\n",
      "La percentuale di canali con feebase <= 10 è  33.538 %\n",
      "La percentuale di canali con feebase <= 100 è  37.188 %\n",
      "La percentuale di canali con feebase <= 1000 è  93.322 %\n",
      "La percentuale di canali con feebase <= 100000 è  99.874 %\n",
      "La percentuale di canali con feebase <= 1000000 è  99.908 %\n",
      "La percentuale di canali con feebase <= 10000000 è  99.967 %\n",
      "La percentuale di canali con feebase <= 100000000 è  99.97 %\n",
      "La percentuale di canali con feebase <= 1000000000 è  100.0 %\n"
     ]
    }
   ],
   "metadata": {}
  },
  {
   "cell_type": "markdown",
   "source": [
    "### **FEE_RATE**"
   ],
   "metadata": {}
  },
  {
   "cell_type": "code",
   "execution_count": 17,
   "source": [
    "feerate_distribution(feerate)\r\n",
    "#plt.savefig('feerate.png')"
   ],
   "outputs": [
    {
     "output_type": "display_data",
     "data": {
      "image/png": "[encoded data removed]",
      "text/plain": [
       "<Figure size 936x432 with 1 Axes>"
      ]
     },
     "metadata": {
      "needs_background": "light"
     }
    }
   ],
   "metadata": {}
  },
  {
   "cell_type": "code",
   "execution_count": 18,
   "source": [
    "uno = 0\r\n",
    "dieci = 0\r\n",
    "cento = 0\r\n",
    "mille = 0\r\n",
    "diecik = 0\r\n",
    "centok = 0\r\n",
    "milione = 0\r\n",
    "dieciM = 0\r\n",
    "miliardo = 0\r\n",
    "\r\n",
    "for key in feeratecounter.keys():\r\n",
    "    if int(key) <= 1 :\r\n",
    "        uno += feeratecounter[key]\r\n",
    "    if int(key) <= 10 :\r\n",
    "        dieci += feeratecounter[key]\r\n",
    "    if int(key) <= 100 :\r\n",
    "        cento += feeratecounter[key]\r\n",
    "    if int(key) <= 1000 :\r\n",
    "        mille += feeratecounter[key]\r\n",
    "    if int(key) <= 10000 :\r\n",
    "        diecik += feeratecounter[key]\r\n",
    "    if int(key) <= 100000 :\r\n",
    "        centok += feeratecounter[key]\r\n",
    "    if int(key) <= 1000000 :\r\n",
    "        milione += feeratecounter[key]\r\n",
    "    if int(key) <= 10000000 :\r\n",
    "        dieciM += feeratecounter[key]\r\n",
    "    if int(key) <= 1000000000 :\r\n",
    "        miliardo += feeratecounter[key]\r\n",
    "        \r\n",
    "        \r\n",
    "print(\"La percentuale di canali con feerate <= 1 è \", str(round(uno*100/len(feerate),3)), \"%\")\r\n",
    "print(\"La percentuale di canali con feerate <= 10 è \", str(round(dieci*100/len(feerate),3)), \"%\")\r\n",
    "print(\"La percentuale di canali con feerate <= 100 è \", str(round(cento*100/len(feerate),3)), \"%\")\r\n",
    "print(\"La percentuale di canali con feerate <= 1000 è \", str(round(mille*100/len(feerate),3)), \"%\")\r\n",
    "print(\"La percentuale di canali con feerate <= 10000 è \", str(round(diecik*100/len(feerate),3)), \"%\")\r\n",
    "print(\"La percentuale di canali con feerate <= 100000 è \", str(round(centok*100/len(feerate),3)), \"%\")\r\n",
    "print(\"La percentuale di canali con feerate <= 1000000 è \", str(round(milione*100/len(feerate),3)), \"%\")\r\n",
    "print(\"La percentuale di canali con feerate <= 10000000 è \", str(round(dieciM*100/len(feerate),3)), \"%\")\r\n",
    "print(\"La percentuale di canali con feerate <= 1000000000 è \", str(round(miliardo*100/len(feerate),3)), \"%\")"
   ],
   "outputs": [
    {
     "output_type": "stream",
     "name": "stdout",
     "text": [
      "La percentuale di canali con feerate <= 1 è  63.441 %\n",
      "La percentuale di canali con feerate <= 10 è  68.719 %\n",
      "La percentuale di canali con feerate <= 100 è  79.275 %\n",
      "La percentuale di canali con feerate <= 1000 è  96.043 %\n",
      "La percentuale di canali con feerate <= 10000 è  99.465 %\n",
      "La percentuale di canali con feerate <= 100000 è  99.881 %\n",
      "La percentuale di canali con feerate <= 1000000 è  99.95 %\n",
      "La percentuale di canali con feerate <= 10000000 è  99.962 %\n",
      "La percentuale di canali con feerate <= 1000000000 è  99.998 %\n"
     ]
    }
   ],
   "metadata": {}
  },
  {
   "cell_type": "markdown",
   "source": [
    "# ***ROOTS***"
   ],
   "metadata": {}
  },
  {
   "cell_type": "code",
   "execution_count": 19,
   "source": [
    "root_prop= {} #struttura per memorizzare i nodi radice e le loro proprietà\r\n",
    "\r\n",
    "all_nodes = [node for node in ln.nodes() if ln.degree(node) >=3]\r\n",
    "\r\n",
    "for node in all_nodes:\r\n",
    "    \r\n",
    "    for n in ln.neighbors(node): #scorro i vicini\r\n",
    "        if ln.degree(n) == 1: #se almeno un vicino è una rosa avrò nel dict \"root_prop\" un campo relativo al nodo node\r\n",
    "            root_prop[node] = {'degree': int, 'roses': [], 'blue': [], 'percent_roses': int } \r\n",
    "    \r\n",
    "for node in root_prop.keys():\r\n",
    "    for n in ln.neighbors(node): \r\n",
    "        if ln.degree(n) == 1:\r\n",
    "            root_prop[node]['roses'].append(n) #roses contiene i vicini che sono rose (grado=1)\r\n",
    "        else:\r\n",
    "            root_prop[node]['blue'].append(n) #blue contiene i vicini che non sono rose (grado >1)\r\n",
    "                \r\n",
    "    \r\n",
    "    root_prop[node]['degree'] = (ln.degree(node))\r\n",
    "    #percent_roses rappresenta in percentuale la proporzione di rose a cui il nodo è collegato rispetto ai nodi blue\r\n",
    "    root_prop[node]['percent_roses']=(float(len(root_prop[node]['roses']) / ln.degree(node) * 100)) "
   ],
   "outputs": [],
   "metadata": {}
  },
  {
   "cell_type": "code",
   "execution_count": 20,
   "source": [
    "print(len(root_prop))"
   ],
   "outputs": [
    {
     "output_type": "stream",
     "name": "stdout",
     "text": [
      "814\n"
     ]
    }
   ],
   "metadata": {}
  },
  {
   "cell_type": "code",
   "execution_count": 22,
   "source": [
    "#memorizzo la componente principale\r\n",
    "largest_component = ln.subgraph(max(nx.connected_components(ln),key=len))\r\n",
    "nx.write_gml(largest_component, \"output\\grafi\\largest_component.gml\") \r\n",
    "#ln_largest = nx.read_gml(\"largest_component.gml\")"
   ],
   "outputs": [],
   "metadata": {}
  },
  {
   "cell_type": "code",
   "execution_count": 27,
   "source": [
    "display(largest_component.number_of_edges())\r\n",
    "display(largest_component.number_of_nodes())"
   ],
   "outputs": [
    {
     "output_type": "display_data",
     "data": {
      "text/plain": [
       "42865"
      ]
     },
     "metadata": {}
    },
    {
     "output_type": "display_data",
     "data": {
      "text/plain": [
       "10867"
      ]
     },
     "metadata": {}
    }
   ],
   "metadata": {}
  },
  {
   "cell_type": "code",
   "execution_count": 23,
   "source": [
    "#applico l'algoritmo di ricerca dei nodi radice solo alla componente principale, mi aspetto che vengano individuati meno nodi \r\n",
    "#rispetto al caso precedente che presumibilmente individuava anche i nodi \"nel contorno della rete\"\r\n",
    "\r\n",
    "root_prop_largest = {} #struttura per memorizzare i nodi radice e le loro proprietà\r\n",
    "\r\n",
    "nodes = [node for node in largest_component.nodes() if largest_component.degree(node) >=3]\r\n",
    "\r\n",
    "for node in nodes:\r\n",
    "    for n in largest_component.neighbors(node): #scorro i vicini\r\n",
    "        if largest_component.degree(n) == 1: #se almeno un vicino è una rosa avrò nel dict \"root_prop\" un campo relativo al nodo node\r\n",
    "            root_prop_largest[node] = {'degree': int, 'roses': [], 'blue': [], 'percent_roses': int} \r\n",
    "        \r\n",
    "\r\n",
    "for node in root_prop_largest.keys():\r\n",
    "    for n in largest_component.neighbors(node): \r\n",
    "        if largest_component.degree(n) == 1:\r\n",
    "            root_prop_largest[node]['roses'].append(n) #roses contiene i vicini che sono rose (grado=1)\r\n",
    "        else:\r\n",
    "            root_prop_largest[node]['blue'].append(n) #blue contiene i vicini che non sono rose (grado >1)\r\n",
    "                \r\n",
    "    \r\n",
    "    root_prop_largest[node]['degree'] = largest_component.degree(node)\r\n",
    "    #percent_roses rappresenta in percentuale la proporzione di rose a cui il nodo è collegato rispetto ai nodi blue\r\n",
    "    root_prop_largest[node]['percent_roses'] = float(len(root_prop_largest[node]['roses']) / largest_component.degree(node) * 100)\r\n"
   ],
   "outputs": [],
   "metadata": {}
  },
  {
   "cell_type": "code",
   "execution_count": 24,
   "source": [
    "len(root_prop_largest)"
   ],
   "outputs": [
    {
     "output_type": "execute_result",
     "data": {
      "text/plain": [
       "812"
      ]
     },
     "metadata": {},
     "execution_count": 24
    }
   ],
   "metadata": {}
  },
  {
   "cell_type": "code",
   "execution_count": 28,
   "source": [
    "#percentuale dei nodi root nella largest_component\r\n",
    "perc_roots_largest = int(len(root_prop_largest) / len(root_prop) * 100)\r\n",
    "print(\"Il \", perc_roots_largest, \" % dei nodi radice si trova nella componente centrale. \")\r\n",
    "\r\n",
    "\r\n",
    "#percentuale dei nodi root sul totale:\r\n",
    "perc_roots = int(len(root_prop_largest) / largest_component.number_of_nodes() * 100)\r\n",
    "print(\"I nodi root sono il \",perc_roots,\"% dei nodi totali\")"
   ],
   "outputs": [
    {
     "output_type": "stream",
     "name": "stdout",
     "text": [
      "Il  99  % dei nodi radice si trova nella componente centrale. \n",
      "I nodi root sono il  7 % dei nodi totali\n"
     ]
    }
   ],
   "metadata": {}
  },
  {
   "cell_type": "markdown",
   "source": [
    "### ***Aggiungo attributo 'ISROOT' ai nodi radice per visualizzazione con graphia***"
   ],
   "metadata": {}
  },
  {
   "cell_type": "code",
   "execution_count": 30,
   "source": [
    "node_attr = {}\r\n",
    "\r\n",
    "for node in largest_component.nodes():\r\n",
    "    new = {'ISROOT' : 1 if node in root_prop_largest.keys() else 0}\r\n",
    "    node_attr[node] = new\r\n",
    "nx.set_node_attributes(largest_component, node_attr)\r\n",
    "\r\n",
    "nx.write_gml(largest_component, \"output\\grafi\\grafo_root.gml\") #grafo ottenuto con l'algoritmo precedente ma la condizione affinchè un nodo sia key della struttura è solo che uno dei suoi vicini abbia grado1"
   ],
   "outputs": [],
   "metadata": {}
  },
  {
   "cell_type": "code",
   "execution_count": null,
   "source": [],
   "outputs": [],
   "metadata": {}
  },
  {
   "cell_type": "code",
   "execution_count": null,
   "source": [
    "#grafo con condizione sui vicini: grado 1 o grado 2 \r\n",
    "#nx.write_gml(largest_component, \"grafo_root1295.gml\")"
   ],
   "outputs": [],
   "metadata": {}
  },
  {
   "cell_type": "code",
   "execution_count": null,
   "source": [
    "#?\r\n",
    "#memorizzo i nodi che sono collegati a più nodi rossi (rose) che blu\r\n",
    "selected_nodes = {}\r\n",
    "\r\n",
    "for node in root_prop_largest.keys():\r\n",
    "    if(root_prop_largest[node]['percent_roses'] > 40 and largest_component.degree(node) >=4 ):\r\n",
    "        selected_nodes[node]= root_prop_largest[node]"
   ],
   "outputs": [],
   "metadata": {}
  },
  {
   "cell_type": "code",
   "execution_count": null,
   "source": [
    "#provo ad individuare altri nodi radice (??)\r\n",
    "bouquet_roots = {}\r\n",
    "\r\n",
    "for n in largest_component.nodes():\r\n",
    "    #considero come rose nodi di grado 2 \r\n",
    "    roses = [nbr for nbr in largest_component.neighbors(n) if largest_component.degree(nbr) == 2]\r\n",
    "\r\n",
    "    if(len(roses) == 2):\r\n",
    "        \r\n",
    "        bouquet_roots[n] = {'degree' : int, 'roses2': []}\r\n",
    "\r\n",
    "        bouquet_roots[n]['degree'] = (largest_component.degree(n))\r\n",
    "        bouquet_roots[n]['roses2'].append(roses[0])\r\n",
    "        bouquet_roots[n]['roses2'].append(roses[1])\r\n"
   ],
   "outputs": [],
   "metadata": {}
  },
  {
   "cell_type": "code",
   "execution_count": null,
   "source": [
    "roots2 = {}\r\n",
    "nodi = []\r\n",
    "\r\n",
    "for n in bouquet_roots.keys():\r\n",
    "\r\n",
    "    roots2[n] = {'neig_0' : [], 'neig_1': []}\r\n",
    "\r\n",
    "    n0 = [nbr for nbr in largest_component.neighbors(bouquet_roots[n]['roses2'][0])]\r\n",
    "    n1 = [nbr for nbr in largest_component.neighbors(bouquet_roots[n]['roses2'][1])]\r\n",
    "\r\n",
    "    roots2[n]['neig_0'] = n0\r\n",
    "    roots2[n]['neig_1'] = n1\r\n",
    "\r\n",
    "    if( bouquet_roots[n]['roses2'][1] in n0 and n in n0 and bouquet_roots[n]['roses2'][0] in n1 and n in n1):\r\n",
    "        nodi.append(n)"
   ],
   "outputs": [],
   "metadata": {}
  },
  {
   "cell_type": "code",
   "execution_count": null,
   "source": [
    "#provo a trovare altri nodi radice:\r\n",
    "\r\n",
    "roots = []\r\n",
    "for n in largest_component.nodes(): #per ogni nodo del grafo\r\n",
    "    if n not in root_prop_largest.keys(): #se non compare nella struttura dei nodi roots\r\n",
    "\r\n",
    "        neighborgs = [nbr for nbr in largest_component.neighbors(n)] #memorizzo i suoi vicini\r\n",
    "\r\n",
    "        #se tra i vicini del nodo ci sono almeno 3 nodi radice \r\n",
    "        if(len(set(neighborgs) & set(root_prop_largest.keys())) >=5 and largest_component.degree(n) <=5) :\r\n",
    "            roots.append(n)\r\n"
   ],
   "outputs": [],
   "metadata": {}
  },
  {
   "cell_type": "markdown",
   "source": [
    "# ***ANALISI CENTRALITA'***\r\n",
    "\r\n"
   ],
   "metadata": {}
  },
  {
   "cell_type": "markdown",
   "source": [
    "## Trasformo il multigrafo in Grafo, facendo la media delle componenti degli archi"
   ],
   "metadata": {}
  },
  {
   "cell_type": "code",
   "execution_count": 178,
   "source": [
    "G = nx.Graph()\r\n",
    "\r\n",
    "multi_nodes = []\r\n",
    "\r\n",
    "for edge in ln.edges(data=True,keys=True):\r\n",
    "\r\n",
    "    u = edge[0]\r\n",
    "    v = edge[1]\r\n",
    "\r\n",
    "    k = edge[2]\r\n",
    "\r\n",
    "    if not G.has_edge(u,v):\r\n",
    "\r\n",
    "        G.add_edge(u,v)\r\n",
    "        \r\n",
    "        htlc1 = mean(d.get('MINHTLC1',-1) for d in ln.get_edge_data(u,v).values())\r\n",
    "        htlc2 = mean(d.get('MINHTLC2',-1) for d in ln.get_edge_data(u,v).values())\r\n",
    "        feebase1 = mean(d.get('FEEBASE1',-1) for d in ln.get_edge_data(u,v).values())\r\n",
    "        feebase2 = mean(d.get('FEEBASE2',-1) for d in ln.get_edge_data(u,v).values())\r\n",
    "        feerate1 = mean(d.get('FEERATE1',-1) for d in ln.get_edge_data(u,v).values())\r\n",
    "        feerate2 = mean(int(d.get('FEERATE2',-1)) for d in ln.get_edge_data(u,v).values())\r\n",
    "\r\n",
    "        G[u][v]['ID'] = k\r\n",
    "        G[u][v]['HTLC1'] = htlc1\r\n",
    "        G[u][v]['HTLC2'] = htlc2\r\n",
    "        G[u][v]['FEEBASE1'] = feebase1\r\n",
    "        G[u][v]['FEEBASE2'] = feebase2\r\n",
    "        G[u][v]['FEERATE1'] = feerate1\r\n",
    "        G[u][v]['FEERATE2'] = feerate2\r\n"
   ],
   "outputs": [],
   "metadata": {}
  },
  {
   "cell_type": "code",
   "execution_count": null,
   "source": [],
   "outputs": [],
   "metadata": {}
  },
  {
   "cell_type": "code",
   "execution_count": 7,
   "source": [
    "betw = nx.betweenness_centrality(G, seed=0)\r\n",
    "print(\"Betweenness - FATTO\")"
   ],
   "outputs": [
    {
     "output_type": "stream",
     "name": "stdout",
     "text": [
      "Betweenness - FATTO\n"
     ]
    }
   ],
   "metadata": {}
  },
  {
   "cell_type": "code",
   "execution_count": 10,
   "source": [
    "#salva in file\r\n",
    "np.save('filebetweenness.npy',betw) \r\n",
    "\r\n",
    "#leggi in dict\r\n",
    "new_dict = np.load('filebetweenness.npy', allow_pickle='TRUE')\r\n"
   ],
   "outputs": [],
   "metadata": {}
  },
  {
   "cell_type": "code",
   "execution_count": 12,
   "source": [
    "#istogramma distribuzione dei valori di betweenness tra i nodi\r\n",
    "plt.figure(figsize=(13,6))\r\n",
    "plt.tick_params(axis='x', labelsize=18)\r\n",
    "plt.tick_params(axis='y', labelsize=18)\r\n",
    "\r\n",
    "plt.xlabel('betweenness centrality', fontsize=18)\r\n",
    "    \r\n",
    "n = len(betw)\r\n",
    "bins = int(n**(1/float(2))) \r\n",
    "\r\n",
    "plt.ylabel('node count', fontsize=18)\r\n",
    "plt.yscale('log')\r\n",
    "plt.hist(betw.values(), bins = bins, edgecolor='black', alpha = 0.8, color='green')\r\n",
    "plt.tight_layout()\r\n",
    "plt.savefig(\"betweenness.png\")"
   ],
   "outputs": [
    {
     "output_type": "display_data",
     "data": {
      "image/png": "[encoded data removed]",
      "text/plain": [
       "<Figure size 936x432 with 1 Axes>"
      ]
     },
     "metadata": {
      "needs_background": "light"
     }
    }
   ],
   "metadata": {}
  },
  {
   "cell_type": "code",
   "execution_count": 101,
   "source": [
    "#seleziono le chiavi dei nodi che hanno valori di betweenness più alti\r\n",
    "selected_nodes = [ key for key, value in betw.items() if value >= 0.04]\r\n",
    "selected_nodes2 = [ (key,value) for key, value in betw.items() if value >= 0.04]\r\n",
    "\r\n",
    "display(selected_nodes2)"
   ],
   "outputs": [
    {
     "output_type": "display_data",
     "data": {
      "text/plain": [
       "[('0217890e3aad8d35bc054f43acc00084b25229ecff0ab68debd82883ad65ee8266',\n",
       "  0.10415522356707307),\n",
       " ('0331f80652fb840239df8dc99205792bba2e559a05469915804c08420230e23c7c',\n",
       "  0.058151323766783544),\n",
       " ('03864ef025fde8fb587d989186ce6a4a186895ee44a926bfc370e2c366597a3f8f',\n",
       "  0.14645591663493682),\n",
       " ('02ad6fb8d693dc1e4569bcedefadf5f72a931ae027dc0f0c544b34c1c6f3b9a02b',\n",
       "  0.10649142938008296),\n",
       " ('0242a4ae0c5bef18048fbecf995094b74bfb0f7391418d71ed394784373f41e4f3',\n",
       "  0.07803361142287178),\n",
       " ('02315fe3619ffdea2561bcacecada87b226723f471a59fdbfec18c4e84bcf785b2',\n",
       "  0.06367093626659243),\n",
       " ('03abf6f44c355dec0d5aa155bdbdd6e0c8fefe318eff402de65c6eb2e1be55dc3e',\n",
       "  0.044260411995861546),\n",
       " ('023d70f2f76d283c6c4e58109ee3a2816eb9d8feb40b23d62469060a2b2867b77f',\n",
       "  0.09083421743132852)]"
      ]
     },
     "metadata": {}
    }
   ],
   "metadata": {}
  },
  {
   "cell_type": "code",
   "execution_count": 31,
   "source": [
    "#memorizzo \r\n",
    "dict_selected_nodes = {'node': [], 'edge_id': [],  'htlc': [], 'feebase' : [], 'feerate' : [], 'routing': []}\r\n",
    "\r\n",
    "for edges in G.edges(data=True):\r\n",
    "\r\n",
    "    for n in selected_nodes:\r\n",
    "\r\n",
    "\r\n",
    "        u = edges[0]\r\n",
    "        v = edges[1]\r\n",
    "\r\n",
    "        if n == u :\r\n",
    "            #dict_selected_nodes[n] = { 'edge_id': [],  'htlc': [], 'feebase' : [], 'feerate' : []}\r\n",
    "\r\n",
    "            dict_selected_nodes['node'].append(u)\r\n",
    "            \r\n",
    "            dict_selected_nodes['edge_id'].append(G[u][v]['ID']) \r\n",
    "            dict_selected_nodes['htlc'].append(G[u][v]['HTLC1']) \r\n",
    "            dict_selected_nodes['feebase'].append(G[u][v]['FEEBASE1'])\r\n",
    "            dict_selected_nodes['feerate'].append(G[u][v]['FEERATE1'])\r\n",
    "            dict_selected_nodes['routing'].append(G[u][v]['ROUTING1'])\r\n",
    "\r\n",
    "            \r\n",
    "        elif n == v :\r\n",
    "            #dict_selected_nodes[n] = { 'edge_id': [],  'htlc': [], 'feebase' : [], 'feerate' : []}\r\n",
    "            dict_selected_nodes['node'].append(v)\r\n",
    "\r\n",
    "            dict_selected_nodes['edge_id'].append(G[u][v]['ID']) \r\n",
    "            dict_selected_nodes['htlc'].append(G[u][v]['HTLC2']) \r\n",
    "            dict_selected_nodes['feebase'].append(G[u][v]['FEEBASE2'])\r\n",
    "            dict_selected_nodes['routing'].append(G[u][v]['ROUTING2'])\r\n",
    "\r\n"
   ],
   "outputs": [
    {
     "output_type": "error",
     "ename": "NameError",
     "evalue": "name 'G' is not defined",
     "traceback": [
      "\u001b[1;31m---------------------------------------------------------------------------\u001b[0m",
      "\u001b[1;31mNameError\u001b[0m                                 Traceback (most recent call last)",
      "\u001b[1;32mC:\\Users\\ROBERT~1\\AppData\\Local\\Temp/ipykernel_22912/4213933292.py\u001b[0m in \u001b[0;36m<module>\u001b[1;34m\u001b[0m\n\u001b[0;32m      2\u001b[0m \u001b[0mdict_selected_nodes\u001b[0m \u001b[1;33m=\u001b[0m \u001b[1;33m{\u001b[0m\u001b[1;34m'node'\u001b[0m\u001b[1;33m:\u001b[0m \u001b[1;33m[\u001b[0m\u001b[1;33m]\u001b[0m\u001b[1;33m,\u001b[0m \u001b[1;34m'edge_id'\u001b[0m\u001b[1;33m:\u001b[0m \u001b[1;33m[\u001b[0m\u001b[1;33m]\u001b[0m\u001b[1;33m,\u001b[0m  \u001b[1;34m'htlc'\u001b[0m\u001b[1;33m:\u001b[0m \u001b[1;33m[\u001b[0m\u001b[1;33m]\u001b[0m\u001b[1;33m,\u001b[0m \u001b[1;34m'feebase'\u001b[0m \u001b[1;33m:\u001b[0m \u001b[1;33m[\u001b[0m\u001b[1;33m]\u001b[0m\u001b[1;33m,\u001b[0m \u001b[1;34m'feerate'\u001b[0m \u001b[1;33m:\u001b[0m \u001b[1;33m[\u001b[0m\u001b[1;33m]\u001b[0m\u001b[1;33m,\u001b[0m \u001b[1;34m'routing'\u001b[0m\u001b[1;33m:\u001b[0m \u001b[1;33m[\u001b[0m\u001b[1;33m]\u001b[0m\u001b[1;33m}\u001b[0m\u001b[1;33m\u001b[0m\u001b[1;33m\u001b[0m\u001b[0m\n\u001b[0;32m      3\u001b[0m \u001b[1;33m\u001b[0m\u001b[0m\n\u001b[1;32m----> 4\u001b[1;33m \u001b[1;32mfor\u001b[0m \u001b[0medges\u001b[0m \u001b[1;32min\u001b[0m \u001b[0mG\u001b[0m\u001b[1;33m.\u001b[0m\u001b[0medges\u001b[0m\u001b[1;33m(\u001b[0m\u001b[0mdata\u001b[0m\u001b[1;33m=\u001b[0m\u001b[1;32mTrue\u001b[0m\u001b[1;33m)\u001b[0m\u001b[1;33m:\u001b[0m\u001b[1;33m\u001b[0m\u001b[1;33m\u001b[0m\u001b[0m\n\u001b[0m\u001b[0;32m      5\u001b[0m \u001b[1;33m\u001b[0m\u001b[0m\n\u001b[0;32m      6\u001b[0m     \u001b[1;32mfor\u001b[0m \u001b[0mn\u001b[0m \u001b[1;32min\u001b[0m \u001b[0mselected_nodes\u001b[0m\u001b[1;33m:\u001b[0m\u001b[1;33m\u001b[0m\u001b[1;33m\u001b[0m\u001b[0m\n",
      "\u001b[1;31mNameError\u001b[0m: name 'G' is not defined"
     ]
    }
   ],
   "metadata": {}
  },
  {
   "cell_type": "code",
   "execution_count": 180,
   "source": [
    "#quante volte il nodo compare nel dizionario (equivale al grado)\r\n",
    "counter = sorted(collections.Counter(dict_selected_nodes['node']))\r\n",
    "display(counter)"
   ],
   "outputs": [
    {
     "output_type": "display_data",
     "data": {
      "text/plain": [
       "['0217890e3aad8d35bc054f43acc00084b25229ecff0ab68debd82883ad65ee8266',\n",
       " '02315fe3619ffdea2561bcacecada87b226723f471a59fdbfec18c4e84bcf785b2',\n",
       " '023d70f2f76d283c6c4e58109ee3a2816eb9d8feb40b23d62469060a2b2867b77f',\n",
       " '0242a4ae0c5bef18048fbecf995094b74bfb0f7391418d71ed394784373f41e4f3',\n",
       " '02ad6fb8d693dc1e4569bcedefadf5f72a931ae027dc0f0c544b34c1c6f3b9a02b',\n",
       " '0331f80652fb840239df8dc99205792bba2e559a05469915804c08420230e23c7c',\n",
       " '03864ef025fde8fb587d989186ce6a4a186895ee44a926bfc370e2c366597a3f8f',\n",
       " '03abf6f44c355dec0d5aa155bdbdd6e0c8fefe318eff402de65c6eb2e1be55dc3e']"
      ]
     },
     "metadata": {}
    }
   ],
   "metadata": {}
  },
  {
   "cell_type": "code",
   "execution_count": 181,
   "source": [
    "df = pd.DataFrame(data=dict_selected_nodes)\r\n",
    "display(df)"
   ],
   "outputs": [
    {
     "output_type": "display_data",
     "data": {
      "text/html": [
       "<div>\n",
       "<style scoped>\n",
       "    .dataframe tbody tr th:only-of-type {\n",
       "        vertical-align: middle;\n",
       "    }\n",
       "\n",
       "    .dataframe tbody tr th {\n",
       "        vertical-align: top;\n",
       "    }\n",
       "\n",
       "    .dataframe thead th {\n",
       "        text-align: right;\n",
       "    }\n",
       "</style>\n",
       "<table border=\"1\" class=\"dataframe\">\n",
       "  <thead>\n",
       "    <tr style=\"text-align: right;\">\n",
       "      <th></th>\n",
       "      <th>node</th>\n",
       "      <th>edge_id</th>\n",
       "      <th>htlc</th>\n",
       "      <th>feebase</th>\n",
       "      <th>feerate</th>\n",
       "    </tr>\n",
       "  </thead>\n",
       "  <tbody>\n",
       "    <tr>\n",
       "      <th>0</th>\n",
       "      <td>0217890e3aad8d35bc054f43acc00084b25229ecff0ab6...</td>\n",
       "      <td>613585762504409089</td>\n",
       "      <td>1000.0</td>\n",
       "      <td>1000.0</td>\n",
       "      <td>1.0</td>\n",
       "    </tr>\n",
       "    <tr>\n",
       "      <th>1</th>\n",
       "      <td>0242a4ae0c5bef18048fbecf995094b74bfb0f7391418d...</td>\n",
       "      <td>582283765936160768</td>\n",
       "      <td>1000.0</td>\n",
       "      <td>1000.0</td>\n",
       "      <td>1.0</td>\n",
       "    </tr>\n",
       "    <tr>\n",
       "      <th>2</th>\n",
       "      <td>0217890e3aad8d35bc054f43acc00084b25229ecff0ab6...</td>\n",
       "      <td>620040995220881408</td>\n",
       "      <td>0.0</td>\n",
       "      <td>1000.0</td>\n",
       "      <td>1.0</td>\n",
       "    </tr>\n",
       "    <tr>\n",
       "      <th>3</th>\n",
       "      <td>0217890e3aad8d35bc054f43acc00084b25229ecff0ab6...</td>\n",
       "      <td>610203664718299137</td>\n",
       "      <td>0.0</td>\n",
       "      <td>1000.0</td>\n",
       "      <td>1.0</td>\n",
       "    </tr>\n",
       "    <tr>\n",
       "      <th>4</th>\n",
       "      <td>0217890e3aad8d35bc054f43acc00084b25229ecff0ab6...</td>\n",
       "      <td>625179013110693889</td>\n",
       "      <td>0.0</td>\n",
       "      <td>1000.0</td>\n",
       "      <td>1.0</td>\n",
       "    </tr>\n",
       "    <tr>\n",
       "      <th>...</th>\n",
       "      <td>...</td>\n",
       "      <td>...</td>\n",
       "      <td>...</td>\n",
       "      <td>...</td>\n",
       "      <td>...</td>\n",
       "    </tr>\n",
       "    <tr>\n",
       "      <th>7725</th>\n",
       "      <td>023d70f2f76d283c6c4e58109ee3a2816eb9d8feb40b23...</td>\n",
       "      <td>748334210946826241</td>\n",
       "      <td>1000.0</td>\n",
       "      <td>0.0</td>\n",
       "      <td>1.0</td>\n",
       "    </tr>\n",
       "    <tr>\n",
       "      <th>7726</th>\n",
       "      <td>023d70f2f76d283c6c4e58109ee3a2816eb9d8feb40b23...</td>\n",
       "      <td>748334210946957313</td>\n",
       "      <td>1000.0</td>\n",
       "      <td>1000.0</td>\n",
       "      <td>1.0</td>\n",
       "    </tr>\n",
       "    <tr>\n",
       "      <th>7727</th>\n",
       "      <td>023d70f2f76d283c6c4e58109ee3a2816eb9d8feb40b23...</td>\n",
       "      <td>748368295823933441</td>\n",
       "      <td>1000.0</td>\n",
       "      <td>0.0</td>\n",
       "      <td>1.0</td>\n",
       "    </tr>\n",
       "    <tr>\n",
       "      <th>7728</th>\n",
       "      <td>023d70f2f76d283c6c4e58109ee3a2816eb9d8feb40b23...</td>\n",
       "      <td>748368295886782464</td>\n",
       "      <td>1000.0</td>\n",
       "      <td>0.0</td>\n",
       "      <td>1.0</td>\n",
       "    </tr>\n",
       "    <tr>\n",
       "      <th>7729</th>\n",
       "      <td>023d70f2f76d283c6c4e58109ee3a2816eb9d8feb40b23...</td>\n",
       "      <td>748384788510277633</td>\n",
       "      <td>1000.0</td>\n",
       "      <td>1000.0</td>\n",
       "      <td>1.0</td>\n",
       "    </tr>\n",
       "  </tbody>\n",
       "</table>\n",
       "<p>7730 rows × 5 columns</p>\n",
       "</div>"
      ],
      "text/plain": [
       "                                                   node             edge_id  \\\n",
       "0     0217890e3aad8d35bc054f43acc00084b25229ecff0ab6...  613585762504409089   \n",
       "1     0242a4ae0c5bef18048fbecf995094b74bfb0f7391418d...  582283765936160768   \n",
       "2     0217890e3aad8d35bc054f43acc00084b25229ecff0ab6...  620040995220881408   \n",
       "3     0217890e3aad8d35bc054f43acc00084b25229ecff0ab6...  610203664718299137   \n",
       "4     0217890e3aad8d35bc054f43acc00084b25229ecff0ab6...  625179013110693889   \n",
       "...                                                 ...                 ...   \n",
       "7725  023d70f2f76d283c6c4e58109ee3a2816eb9d8feb40b23...  748334210946826241   \n",
       "7726  023d70f2f76d283c6c4e58109ee3a2816eb9d8feb40b23...  748334210946957313   \n",
       "7727  023d70f2f76d283c6c4e58109ee3a2816eb9d8feb40b23...  748368295823933441   \n",
       "7728  023d70f2f76d283c6c4e58109ee3a2816eb9d8feb40b23...  748368295886782464   \n",
       "7729  023d70f2f76d283c6c4e58109ee3a2816eb9d8feb40b23...  748384788510277633   \n",
       "\n",
       "        htlc  feebase  feerate  \n",
       "0     1000.0   1000.0      1.0  \n",
       "1     1000.0   1000.0      1.0  \n",
       "2        0.0   1000.0      1.0  \n",
       "3        0.0   1000.0      1.0  \n",
       "4        0.0   1000.0      1.0  \n",
       "...      ...      ...      ...  \n",
       "7725  1000.0      0.0      1.0  \n",
       "7726  1000.0   1000.0      1.0  \n",
       "7727  1000.0      0.0      1.0  \n",
       "7728  1000.0      0.0      1.0  \n",
       "7729  1000.0   1000.0      1.0  \n",
       "\n",
       "[7730 rows x 5 columns]"
      ]
     },
     "metadata": {}
    }
   ],
   "metadata": {}
  },
  {
   "cell_type": "code",
   "execution_count": 116,
   "source": [
    "    #istogramma: distribuzione del grado dei nodi\r\n",
    "    #gradi dei nodi della LN passata come argomento\r\n",
    "    degrees = [G.degree(node) for node in G.nodes()]\r\n",
    "\r\n",
    "    n = len(degrees)\r\n",
    "    bins=50\r\n",
    "    \r\n",
    "    plt.figure(figsize=(13,6))\r\n",
    "    plt.tick_params(axis='x', labelsize=18)\r\n",
    "    plt.tick_params(axis='y', labelsize=18)\r\n",
    "    plt.xlabel('degree', fontsize=18)\r\n",
    "    plt.ylabel('node count',fontsize=18)\r\n",
    "    plt.yscale('log')\r\n",
    "    plt.hist(degrees, bins = bins, edgecolor = 'black')\r\n",
    "    plt.tight_layout()\r\n",
    "    plt.savefig(\"degrees.png\")"
   ],
   "outputs": [
    {
     "output_type": "display_data",
     "data": {
      "image/png": "[encoded data removed]",
      "text/plain": [
       "<Figure size 936x432 with 1 Axes>"
      ]
     },
     "metadata": {
      "needs_background": "light"
     }
    }
   ],
   "metadata": {}
  },
  {
   "cell_type": "code",
   "execution_count": 56,
   "source": [
    "for n in counter:\r\n",
    "    display(n)"
   ],
   "outputs": [
    {
     "output_type": "display_data",
     "data": {
      "text/plain": [
       "'0217890e3aad8d35bc054f43acc00084b25229ecff0ab68debd82883ad65ee8266'"
      ]
     },
     "metadata": {}
    },
    {
     "output_type": "display_data",
     "data": {
      "text/plain": [
       "'02315fe3619ffdea2561bcacecada87b226723f471a59fdbfec18c4e84bcf785b2'"
      ]
     },
     "metadata": {}
    },
    {
     "output_type": "display_data",
     "data": {
      "text/plain": [
       "'023d70f2f76d283c6c4e58109ee3a2816eb9d8feb40b23d62469060a2b2867b77f'"
      ]
     },
     "metadata": {}
    },
    {
     "output_type": "display_data",
     "data": {
      "text/plain": [
       "'0242a4ae0c5bef18048fbecf995094b74bfb0f7391418d71ed394784373f41e4f3'"
      ]
     },
     "metadata": {}
    },
    {
     "output_type": "display_data",
     "data": {
      "text/plain": [
       "'02ad6fb8d693dc1e4569bcedefadf5f72a931ae027dc0f0c544b34c1c6f3b9a02b'"
      ]
     },
     "metadata": {}
    },
    {
     "output_type": "display_data",
     "data": {
      "text/plain": [
       "'0331f80652fb840239df8dc99205792bba2e559a05469915804c08420230e23c7c'"
      ]
     },
     "metadata": {}
    },
    {
     "output_type": "display_data",
     "data": {
      "text/plain": [
       "'03864ef025fde8fb587d989186ce6a4a186895ee44a926bfc370e2c366597a3f8f'"
      ]
     },
     "metadata": {}
    },
    {
     "output_type": "display_data",
     "data": {
      "text/plain": [
       "'03abf6f44c355dec0d5aa155bdbdd6e0c8fefe318eff402de65c6eb2e1be55dc3e'"
      ]
     },
     "metadata": {}
    }
   ],
   "metadata": {}
  },
  {
   "cell_type": "code",
   "execution_count": 182,
   "source": [
    "dict_valori_fees = {}\r\n",
    "\r\n",
    "for n in counter:\r\n",
    "    \r\n",
    "    dict_valori_fees[n] = {'HTLC':[],'FEEBASE':[],'FEERATE':[]}\r\n",
    "\r\n",
    "    for i in range(len(df)):\r\n",
    "     #nodi selezionati\r\n",
    "\r\n",
    "        if df.loc[i,'node'] == n :\r\n",
    "\r\n",
    "            dict_valori_fees[n]['HTLC'].append(df.loc[i,'htlc'])\r\n",
    "            dict_valori_fees[n]['FEEBASE'].append(df.loc[i,'feebase'])\r\n",
    "            dict_valori_fees[n]['FEERATE'].append(df.loc[i,'feerate'])\r\n",
    "\r\n"
   ],
   "outputs": [],
   "metadata": {}
  },
  {
   "cell_type": "code",
   "execution_count": 183,
   "source": [
    "df_values = pd.DataFrame(data=dict_valori_fees)\r\n",
    "display(df_values)"
   ],
   "outputs": [
    {
     "output_type": "display_data",
     "data": {
      "text/html": [
       "<div>\n",
       "<style scoped>\n",
       "    .dataframe tbody tr th:only-of-type {\n",
       "        vertical-align: middle;\n",
       "    }\n",
       "\n",
       "    .dataframe tbody tr th {\n",
       "        vertical-align: top;\n",
       "    }\n",
       "\n",
       "    .dataframe thead th {\n",
       "        text-align: right;\n",
       "    }\n",
       "</style>\n",
       "<table border=\"1\" class=\"dataframe\">\n",
       "  <thead>\n",
       "    <tr style=\"text-align: right;\">\n",
       "      <th></th>\n",
       "      <th>0217890e3aad8d35bc054f43acc00084b25229ecff0ab68debd82883ad65ee8266</th>\n",
       "      <th>02315fe3619ffdea2561bcacecada87b226723f471a59fdbfec18c4e84bcf785b2</th>\n",
       "      <th>023d70f2f76d283c6c4e58109ee3a2816eb9d8feb40b23d62469060a2b2867b77f</th>\n",
       "      <th>0242a4ae0c5bef18048fbecf995094b74bfb0f7391418d71ed394784373f41e4f3</th>\n",
       "      <th>02ad6fb8d693dc1e4569bcedefadf5f72a931ae027dc0f0c544b34c1c6f3b9a02b</th>\n",
       "      <th>0331f80652fb840239df8dc99205792bba2e559a05469915804c08420230e23c7c</th>\n",
       "      <th>03864ef025fde8fb587d989186ce6a4a186895ee44a926bfc370e2c366597a3f8f</th>\n",
       "      <th>03abf6f44c355dec0d5aa155bdbdd6e0c8fefe318eff402de65c6eb2e1be55dc3e</th>\n",
       "    </tr>\n",
       "  </thead>\n",
       "  <tbody>\n",
       "    <tr>\n",
       "      <th>HTLC</th>\n",
       "      <td>[1000.0, 0.0, 0.0, 0.0, 0.0, 1000.0, 1000.0, 1...</td>\n",
       "      <td>[1000.0, 1.0, 1000.0, 1000.0, 1000.0, 1000.0, ...</td>\n",
       "      <td>[1000.0, 1000.0, 1000.0, 1000.0, 1000.0, 1000....</td>\n",
       "      <td>[1000.0, 1000.0, 1000.0, 1000.0, 1000.0, -1.0,...</td>\n",
       "      <td>[10000.0, 10000.0, 10000.0, 1.0, 10000.0, 1000...</td>\n",
       "      <td>[0.0, 0.0, 1000.0, 0.0, 0.0, 1000.0, 1000.0, 1...</td>\n",
       "      <td>[1000.0, 1.0, 0.0, 0.0, -1.0, -1.0, 0.0, 0.0, ...</td>\n",
       "      <td>[1000.0, 1000.0, -1.0, 1.0, 500.5, 1.0, 1000.0...</td>\n",
       "    </tr>\n",
       "    <tr>\n",
       "      <th>FEEBASE</th>\n",
       "      <td>[1000.0, 1000.0, 1000.0, 1000.0, 1000.0, 1000....</td>\n",
       "      <td>[0.0, 1000.0, 1000.0, 50.0, 0.0, 1000.0, 5000....</td>\n",
       "      <td>[1.0, 1000.0, 0.0, 1000.0, 900.0, 92.0, 1000.0...</td>\n",
       "      <td>[1000.0, 1000.0, 1000.0, 1000.0, 1.0, -1.0, -1...</td>\n",
       "      <td>[1.0, 1.0, 1.0, 1000.0, 1.0, 1000.0, 1.0, 1000...</td>\n",
       "      <td>[0.0, 0.0, 1000.0, 0.0, 0.0, 0.0, 1000.0, 0.0,...</td>\n",
       "      <td>[1000.0, 1000.0, 1000.0, 1000.0, -1.0, -1.0, 0...</td>\n",
       "      <td>[1000.0, 1000.0, -1.0, 1000.0, 1000.0, 1000.0,...</td>\n",
       "    </tr>\n",
       "    <tr>\n",
       "      <th>FEERATE</th>\n",
       "      <td>[1.0, 1.0, 1.0, 1.0, 1.0, 1.0, 1.0, 1.0, 1.0, ...</td>\n",
       "      <td>[11235.0, 10.0, 1.0, 2500.0, 450.0, 1.0, 504.0...</td>\n",
       "      <td>[48.0, 1.0, 11235.0, 5.0, 100.0, 187.0, 100.0,...</td>\n",
       "      <td>[1.0, 10.0, 1.0, 500.0, 48.0, -1.0, -1.0, -1.0...</td>\n",
       "      <td>[1000.0, 1000.0, 1000.0, 10.0, 1000.0, 1.0, 10...</td>\n",
       "      <td>[1.0, 1.0, 1.0, 1.0, 1.0, 1.0, 1000.0, 1.0, 1....</td>\n",
       "      <td>[500.0, 500.0, 100.0, 100.0, -1.0, -1.0, 0.0, ...</td>\n",
       "      <td>[1700.0, 1700.0, -1.0, 1700.0, 850.5, 1700.0, ...</td>\n",
       "    </tr>\n",
       "  </tbody>\n",
       "</table>\n",
       "</div>"
      ],
      "text/plain": [
       "        0217890e3aad8d35bc054f43acc00084b25229ecff0ab68debd82883ad65ee8266  \\\n",
       "HTLC     [1000.0, 0.0, 0.0, 0.0, 0.0, 1000.0, 1000.0, 1...                   \n",
       "FEEBASE  [1000.0, 1000.0, 1000.0, 1000.0, 1000.0, 1000....                   \n",
       "FEERATE  [1.0, 1.0, 1.0, 1.0, 1.0, 1.0, 1.0, 1.0, 1.0, ...                   \n",
       "\n",
       "        02315fe3619ffdea2561bcacecada87b226723f471a59fdbfec18c4e84bcf785b2  \\\n",
       "HTLC     [1000.0, 1.0, 1000.0, 1000.0, 1000.0, 1000.0, ...                   \n",
       "FEEBASE  [0.0, 1000.0, 1000.0, 50.0, 0.0, 1000.0, 5000....                   \n",
       "FEERATE  [11235.0, 10.0, 1.0, 2500.0, 450.0, 1.0, 504.0...                   \n",
       "\n",
       "        023d70f2f76d283c6c4e58109ee3a2816eb9d8feb40b23d62469060a2b2867b77f  \\\n",
       "HTLC     [1000.0, 1000.0, 1000.0, 1000.0, 1000.0, 1000....                   \n",
       "FEEBASE  [1.0, 1000.0, 0.0, 1000.0, 900.0, 92.0, 1000.0...                   \n",
       "FEERATE  [48.0, 1.0, 11235.0, 5.0, 100.0, 187.0, 100.0,...                   \n",
       "\n",
       "        0242a4ae0c5bef18048fbecf995094b74bfb0f7391418d71ed394784373f41e4f3  \\\n",
       "HTLC     [1000.0, 1000.0, 1000.0, 1000.0, 1000.0, -1.0,...                   \n",
       "FEEBASE  [1000.0, 1000.0, 1000.0, 1000.0, 1.0, -1.0, -1...                   \n",
       "FEERATE  [1.0, 10.0, 1.0, 500.0, 48.0, -1.0, -1.0, -1.0...                   \n",
       "\n",
       "        02ad6fb8d693dc1e4569bcedefadf5f72a931ae027dc0f0c544b34c1c6f3b9a02b  \\\n",
       "HTLC     [10000.0, 10000.0, 10000.0, 1.0, 10000.0, 1000...                   \n",
       "FEEBASE  [1.0, 1.0, 1.0, 1000.0, 1.0, 1000.0, 1.0, 1000...                   \n",
       "FEERATE  [1000.0, 1000.0, 1000.0, 10.0, 1000.0, 1.0, 10...                   \n",
       "\n",
       "        0331f80652fb840239df8dc99205792bba2e559a05469915804c08420230e23c7c  \\\n",
       "HTLC     [0.0, 0.0, 1000.0, 0.0, 0.0, 1000.0, 1000.0, 1...                   \n",
       "FEEBASE  [0.0, 0.0, 1000.0, 0.0, 0.0, 0.0, 1000.0, 0.0,...                   \n",
       "FEERATE  [1.0, 1.0, 1.0, 1.0, 1.0, 1.0, 1000.0, 1.0, 1....                   \n",
       "\n",
       "        03864ef025fde8fb587d989186ce6a4a186895ee44a926bfc370e2c366597a3f8f  \\\n",
       "HTLC     [1000.0, 1.0, 0.0, 0.0, -1.0, -1.0, 0.0, 0.0, ...                   \n",
       "FEEBASE  [1000.0, 1000.0, 1000.0, 1000.0, -1.0, -1.0, 0...                   \n",
       "FEERATE  [500.0, 500.0, 100.0, 100.0, -1.0, -1.0, 0.0, ...                   \n",
       "\n",
       "        03abf6f44c355dec0d5aa155bdbdd6e0c8fefe318eff402de65c6eb2e1be55dc3e  \n",
       "HTLC     [1000.0, 1000.0, -1.0, 1.0, 500.5, 1.0, 1000.0...                  \n",
       "FEEBASE  [1000.0, 1000.0, -1.0, 1000.0, 1000.0, 1000.0,...                  \n",
       "FEERATE  [1700.0, 1700.0, -1.0, 1700.0, 850.5, 1700.0, ...                  "
      ]
     },
     "metadata": {}
    }
   ],
   "metadata": {}
  },
  {
   "cell_type": "code",
   "execution_count": 115,
   "source": [
    "plt.figure(figsize=(13,6))\r\n",
    "a1 = plt.subplot(2,2,1)\r\n",
    "a1.tick_params(axis='x', labelsize=11)\r\n",
    "a1.tick_params(axis='y', labelsize=11)\r\n",
    "plt.xlabel('fee_base (msat)', fontsize=10)\r\n",
    "plt.ylabel('channel count',fontsize=10)\r\n",
    "#plt.yscale('log')\r\n",
    "plt.xscale('symlog')\r\n",
    "a1.hist(feebase, bins = [0,1,10,100,1000,10000,100000,1000000,10000000,100000000], alpha = 0.5, edgecolor ='black', color = 'green')\r\n",
    "plt.tight_layout()\r\n",
    "\r\n",
    "\r\n",
    "a2=plt.subplot(2, 2, 2)\r\n",
    "a2.tick_params(axis='x', labelsize=11)\r\n",
    "a2.tick_params(axis='y', labelsize=11)\r\n",
    "plt.xlabel('fee_rate (msat)', fontsize=10)\r\n",
    "plt.ylabel('channel count',fontsize=10)\r\n",
    "#plt.yscale('log')\r\n",
    "plt.xscale('symlog')\r\n",
    "a2.hist(feerate, bins = [0,1,10,100,1000,10000,100000,1000000,10000000,100000000], alpha = 0.5, edgecolor ='black', color = 'green')\r\n",
    "plt.tight_layout()\r\n",
    "\r\n",
    "plt.savefig(\"fees_all.png\")\r\n",
    "\r\n"
   ],
   "outputs": [
    {
     "output_type": "display_data",
     "data": {
      "image/png": "[encoded data removed]",
      "text/plain": [
       "<Figure size 936x432 with 2 Axes>"
      ]
     },
     "metadata": {
      "needs_background": "light"
     }
    }
   ],
   "metadata": {}
  },
  {
   "cell_type": "code",
   "execution_count": 79,
   "source": [
    "feerate_distribution(df_values['0217890e3aad8d35bc054f43acc00084b25229ecff0ab68debd82883ad65ee8266'][2])"
   ],
   "outputs": [
    {
     "output_type": "display_data",
     "data": {
      "image/png": "[encoded data removed]",
      "text/plain": [
       "<Figure size 936x432 with 1 Axes>"
      ]
     },
     "metadata": {
      "needs_background": "light"
     }
    }
   ],
   "metadata": {}
  },
  {
   "cell_type": "code",
   "execution_count": null,
   "source": [],
   "outputs": [],
   "metadata": {}
  },
  {
   "cell_type": "code",
   "execution_count": null,
   "source": [],
   "outputs": [],
   "metadata": {}
  },
  {
   "cell_type": "markdown",
   "source": [
    "# ***ANALISI CAMPO ROUTING***\r\n"
   ],
   "metadata": {}
  },
  {
   "cell_type": "markdown",
   "source": [
    "### ***def*** : se ROUTING = 1 il nodo consente il routing, se = -1 il routing non è consentito"
   ],
   "metadata": {}
  },
  {
   "cell_type": "code",
   "execution_count": 5,
   "source": [
    "#canali su cui non avvengono inoltri su in nessuna delle due direzioni\r\n",
    "channels_two_not = [d['CHANNELID'] for u,v,d in ln.edges.data() if d['ROUTING1'] == 0 and d['ROUTING2'] == 0]\r\n",
    "#canali su cui avvengono inoltri su in una direzione\r\n",
    "channels_one_not = [d['CHANNELID'] for u,v,d in ln.edges.data() if d['ROUTING1'] == 0 or d['ROUTING2'] == 0]\r\n",
    "\r\n",
    "display(len(channels_two_not))\r\n",
    "display(len(channels_one_not))\r\n"
   ],
   "outputs": [
    {
     "output_type": "display_data",
     "data": {
      "text/plain": [
       "1524"
      ]
     },
     "metadata": {}
    },
    {
     "output_type": "display_data",
     "data": {
      "text/plain": [
       "12043"
      ]
     },
     "metadata": {}
    }
   ],
   "metadata": {}
  },
  {
   "cell_type": "code",
   "execution_count": 13,
   "source": [
    "#creo il sottografo solo con i canali su cui vengono inoltrati i pagamenti \r\n",
    "\r\n",
    "#subgraph = nx.Multigraph(data=True)\r\n",
    "\r\n",
    "nodes = []\r\n",
    "\r\n",
    "for u,v,d in ln.edges(data=True):\r\n",
    "    if d['CHANNELID'] not in channels_two_not:\r\n",
    "        nodes.append(u)\r\n",
    "        nodes.append(v)\r\n",
    "\r\n",
    "subgraph = ln.subgraph(nodes).copy()\r\n",
    "\r\n",
    "\r\n"
   ],
   "outputs": [],
   "metadata": {}
  },
  {
   "cell_type": "code",
   "execution_count": 14,
   "source": [
    "display(subgraph.number_of_edges())\r\n",
    "display(subgraph.number_of_nodes())"
   ],
   "outputs": [
    {
     "output_type": "display_data",
     "data": {
      "text/plain": [
       "42736"
      ]
     },
     "metadata": {}
    },
    {
     "output_type": "display_data",
     "data": {
      "text/plain": [
       "10870"
      ]
     },
     "metadata": {}
    }
   ],
   "metadata": {}
  }
 ],
 "metadata": {
  "interpreter": {
   "hash": "90e315135b2281b752a7f250632c791a0dae1003299eabe9b8abad9d58b3e8e7"
  },
  "kernelspec": {
   "name": "python3",
   "display_name": "Python 3.8.8 64-bit ('base': conda)"
  },
  "language_info": {
   "codemirror_mode": {
    "name": "ipython",
    "version": 3
   },
   "file_extension": ".py",
   "mimetype": "text/x-python",
   "name": "python",
   "nbconvert_exporter": "python",
   "pygments_lexer": "ipython3",
   "version": "3.8.8"
  }
 },
 "nbformat": 4,
 "nbformat_minor": 5
}