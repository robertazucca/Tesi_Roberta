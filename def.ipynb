{
 "cells": [
  {
   "cell_type": "code",
   "execution_count": 8,
   "source": [
    "import json\r\n",
    "import pandas as pd\r\n",
    "import networkx as nx\r\n",
    "import matplotlib.pyplot as plt\r\n",
    "import matplotlib\r\n",
    "import numpy as np\r\n",
    "import collections\r\n",
    "from collections import Counter\r\n",
    "from grafici import htlc_distribution, feebase_distribution, feerate_distribution"
   ],
   "outputs": [],
   "metadata": {}
  },
  {
   "cell_type": "code",
   "execution_count": 9,
   "source": [
    "#leggo il grafo dal file .gml \r\n",
    "ln = nx.read_gml('grafodef.gml')"
   ],
   "outputs": [],
   "metadata": {}
  },
  {
   "cell_type": "markdown",
   "source": [
    "## *Def:*\r\n",
    "### **min_htcl:** *valore minimo (espresso in msat) per cui un nodo è disposto a fare il forward di un pagamento*\r\n",
    "### **fee_base:**  *tariffa fissa (espressa in mSat) addebitata su ogni transazione instradata attraverso un certo nodo*\r\n",
    "### **fee_rate:** : *millisatoshi aggiuntivi richiesti per ogni milione di satoshi inviati*\r\n",
    "\r\n"
   ],
   "metadata": {}
  },
  {
   "cell_type": "code",
   "execution_count": 10,
   "source": [
    "#per calcolare le distribuzioni\r\n",
    "\r\n",
    "htlc1 = [int(c) for (u, v, c) in ln.edges.data('MINHTLC1') ]\r\n",
    "htlc2 = [int(c) for (u, v, c) in ln.edges.data('MINHTLC2')]\r\n",
    "htlc = htlc1+htlc2 \r\n",
    "feebase1 = [c for (u, v, c) in ln.edges.data('FEEBASE1')]\r\n",
    "feebase2 = [c for (u, v, c) in ln.edges.data('FEEBASE2')]\r\n",
    "feebase = feebase1 + feebase2\r\n",
    "feerate1 = [int(c) for (u, v, c) in ln.edges.data('FEERATE1')]\r\n",
    "feerate2 = [int(c) for (u, v, c) in ln.edges.data('FEERATE2')]\r\n",
    "feerate = feerate1 + feerate2"
   ],
   "outputs": [],
   "metadata": {}
  },
  {
   "cell_type": "code",
   "execution_count": 11,
   "source": [
    "htlccounter = collections.Counter(htlc)\r\n",
    "feebasecounter = collections.Counter(feebase)\r\n",
    "feeratecounter = collections.Counter(feerate)"
   ],
   "outputs": [],
   "metadata": {}
  },
  {
   "cell_type": "markdown",
   "source": [
    "### **HTLC**"
   ],
   "metadata": {}
  },
  {
   "cell_type": "code",
   "execution_count": 12,
   "source": [
    "#calcolo istogramma della distrubuzione dei valori di htlc\r\n",
    "htlc_distribution(htlc)"
   ],
   "outputs": [
    {
     "output_type": "display_data",
     "data": {
      "image/png": "[encoded data removed]",
      "text/plain": [
       "<Figure size 936x432 with 1 Axes>"
      ]
     },
     "metadata": {
      "needs_background": "light"
     }
    }
   ],
   "metadata": {}
  },
  {
   "cell_type": "code",
   "execution_count": 13,
   "source": [
    "#percentuali dei canali \r\n",
    "\r\n",
    "zero = 0\r\n",
    "uno = 0\r\n",
    "dieci = 0\r\n",
    "cento = 0\r\n",
    "mille = 0\r\n",
    "centok = 0\r\n",
    "milione = 0\r\n",
    "dieciM = 0\r\n",
    "centoM = 0\r\n",
    "\r\n",
    "\r\n",
    "for key in htlccounter.keys():\r\n",
    "    #if int(key) <= 0 :\r\n",
    "    #    zero += htclcounter[key]\r\n",
    "    if int(key) <= 1 :\r\n",
    "        uno += htlccounter[key]\r\n",
    "    if int(key) <= 10 :\r\n",
    "        dieci += htlccounter[key]\r\n",
    "    if int(key) <= 100 :\r\n",
    "        cento += htlccounter[key]\r\n",
    "    if int(key) <= 1000 :\r\n",
    "        mille += htlccounter[key]\r\n",
    "#   if int(key) <= 10000 :\r\n",
    "#       diecimila += htclcounter[key]\r\n",
    "    if int(key) <= 100000 :\r\n",
    "        centok += htlccounter[key]\r\n",
    "    if int(key) <= 1000000 :\r\n",
    "        milione+= htlccounter[key]\r\n",
    "    if int(key) <= 10000000 :\r\n",
    "        dieciM+= htlccounter[key] \r\n",
    "    if int(key) <= 100000000 :\r\n",
    "        centoM+= htlccounter[key]\r\n",
    "        \r\n",
    "print(\"La percentuale di canali con minhtlc <= 1 è \", str(round(uno*100/len(htlc),3)), \"%\")\r\n",
    "print(\"La percentuale di canali con minhtlc <= 10 è \", str(round(dieci*100/len(htlc),3)), \"%\")\r\n",
    "print(\"La percentuale di canali con minhtlc <= 100 è \", str(round(cento*100/len(htlc),3)), \"%\")\r\n",
    "print(\"La percentuale di canali con minhtlc <= 1000 è \", str(round(mille*100/len(htlc),3)), \"%\")\r\n",
    "#print(\"La percentuale di canali con minhtcl <= 10000 è \", str(round(diecimila*100/len(htcl1),3)), \"%\")\r\n",
    "print(\"La percentuale di canali con minhtlc <= 100000 è \", str(round(centok*100/len(htlc),3)), \"%\")\r\n",
    "print(\"La percentuale di canali con minhtlc <= 1000000 è \", str(round(milione*100/len(htlc),3)), \"%\")\r\n",
    "print(\"La percentuale di canali con minhtlc <= 10000000 è \", str(round(dieciM*100/len(htlc),3)), \"%\")\r\n",
    "print(\"La percentuale di canali con minhtlc <= 100000000 è \", str(round(centoM*100/len(htlc),3)), \"%\")\r\n"
   ],
   "outputs": [
    {
     "output_type": "stream",
     "name": "stdout",
     "text": [
      "La percentuale di canali con minhtlc <= 1 è  25.539 %\n",
      "La percentuale di canali con minhtlc <= 10 è  25.574 %\n",
      "La percentuale di canali con minhtlc <= 100 è  25.723 %\n",
      "La percentuale di canali con minhtlc <= 1000 è  98.171 %\n",
      "La percentuale di canali con minhtlc <= 100000 è  99.948 %\n",
      "La percentuale di canali con minhtlc <= 1000000 è  99.979 %\n",
      "La percentuale di canali con minhtlc <= 10000000 è  99.994 %\n",
      "La percentuale di canali con minhtlc <= 100000000 è  100.0 %\n"
     ]
    }
   ],
   "metadata": {}
  },
  {
   "cell_type": "markdown",
   "source": [
    "### **FEE_BASE**"
   ],
   "metadata": {}
  },
  {
   "cell_type": "code",
   "execution_count": 14,
   "source": [
    "feebase_distribution(feebase)"
   ],
   "outputs": [
    {
     "output_type": "display_data",
     "data": {
      "image/png": "[encoded data removed]",
      "text/plain": [
       "<Figure size 936x432 with 1 Axes>"
      ]
     },
     "metadata": {
      "needs_background": "light"
     }
    }
   ],
   "metadata": {}
  },
  {
   "cell_type": "code",
   "execution_count": 15,
   "source": [
    "uno = 0\r\n",
    "dieci = 0\r\n",
    "cento = 0\r\n",
    "mille = 0\r\n",
    "diecik = 0\r\n",
    "centok = 0\r\n",
    "milione = 0\r\n",
    "dieciM = 0\r\n",
    "centoM = 0\r\n",
    "miliardo = 0\r\n",
    "\r\n",
    "for key in feebasecounter.keys():\r\n",
    "    if int(key) <= 1 :\r\n",
    "        uno += feebasecounter[key]\r\n",
    "    if int(key) <= 10 :\r\n",
    "        dieci += feebasecounter[key]\r\n",
    "    if int(key) <= 100 :\r\n",
    "        cento += feebasecounter[key]\r\n",
    "    if int(key) <= 1000 :\r\n",
    "        mille += feebasecounter[key]\r\n",
    "    if int(key) <= 100000 :\r\n",
    "        centok += feebasecounter[key]\r\n",
    "    if int(key) <= 1000000 :\r\n",
    "        milione += feebasecounter[key]\r\n",
    "    if int(key) <= 10000000 :\r\n",
    "        dieciM += feebasecounter[key]\r\n",
    "    if int(key) <= 100000000:\r\n",
    "        centoM += feebasecounter[key]\r\n",
    "    if int(key) <= 1000000000 :\r\n",
    "        miliardo += feebasecounter[key]\r\n",
    "        \r\n",
    "        \r\n",
    "print(\"La percentuale di canali con feebase <= 1 è \", str(round(uno*100/len(feebase),3)), \"%\")\r\n",
    "print(\"La percentuale di canali con feebase <= 10 è \", str(round(dieci*100/len(feebase),3)), \"%\")\r\n",
    "print(\"La percentuale di canali con feebase <= 100 è \", str(round(cento*100/len(feebase),3)), \"%\")\r\n",
    "print(\"La percentuale di canali con feebase <= 1000 è \", str(round(mille*100/len(feebase),3)), \"%\")\r\n",
    "#print(\"La percentuale di canali con feebase <= 10000 è \", str(round(diecimila*100/len(feerate),3)), \"%\")\r\n",
    "print(\"La percentuale di canali con feebase <= 100000 è \", str(round(centok*100/len(feebase),3)), \"%\")\r\n",
    "print(\"La percentuale di canali con feebase <= 1000000 è \", str(round(milione*100/len(feebase),3)), \"%\")\r\n",
    "print(\"La percentuale di canali con feebase <= 10000000 è \", str(round(dieciM*100/len(feebase),3)), \"%\")\r\n",
    "print(\"La percentuale di canali con feebase <= 100000000 è \", str(round(centoM*100/len(feebase),3)), \"%\")\r\n",
    "print(\"La percentuale di canali con feebase <= 1000000000 è \", str(round(miliardo*100/len(feebase),3)), \"%\")"
   ],
   "outputs": [
    {
     "output_type": "stream",
     "name": "stdout",
     "text": [
      "La percentuale di canali con feebase <= 1 è  31.271 %\n",
      "La percentuale di canali con feebase <= 10 è  33.538 %\n",
      "La percentuale di canali con feebase <= 100 è  37.188 %\n",
      "La percentuale di canali con feebase <= 1000 è  93.322 %\n",
      "La percentuale di canali con feebase <= 100000 è  99.874 %\n",
      "La percentuale di canali con feebase <= 1000000 è  99.908 %\n",
      "La percentuale di canali con feebase <= 10000000 è  99.967 %\n",
      "La percentuale di canali con feebase <= 100000000 è  99.97 %\n",
      "La percentuale di canali con feebase <= 1000000000 è  100.0 %\n"
     ]
    }
   ],
   "metadata": {}
  },
  {
   "cell_type": "markdown",
   "source": [
    "### **FEE_RATE**"
   ],
   "metadata": {}
  },
  {
   "cell_type": "code",
   "execution_count": 16,
   "source": [
    "feerate_distribution(feerate)"
   ],
   "outputs": [
    {
     "output_type": "display_data",
     "data": {
      "image/png": "[encoded data removed]",
      "text/plain": [
       "<Figure size 936x432 with 1 Axes>"
      ]
     },
     "metadata": {
      "needs_background": "light"
     }
    }
   ],
   "metadata": {}
  },
  {
   "cell_type": "code",
   "execution_count": 17,
   "source": [
    "uno = 0\r\n",
    "dieci = 0\r\n",
    "cento = 0\r\n",
    "mille = 0\r\n",
    "diecik = 0\r\n",
    "centok = 0\r\n",
    "milione = 0\r\n",
    "dieciM = 0\r\n",
    "miliardo = 0\r\n",
    "\r\n",
    "for key in feeratecounter.keys():\r\n",
    "    if int(key) <= 1 :\r\n",
    "        uno += feeratecounter[key]\r\n",
    "    if int(key) <= 10 :\r\n",
    "        dieci += feeratecounter[key]\r\n",
    "    if int(key) <= 100 :\r\n",
    "        cento += feeratecounter[key]\r\n",
    "    if int(key) <= 1000 :\r\n",
    "        mille += feeratecounter[key]\r\n",
    "    if int(key) <= 10000 :\r\n",
    "        diecik += feeratecounter[key]\r\n",
    "    if int(key) <= 100000 :\r\n",
    "        centok += feeratecounter[key]\r\n",
    "    if int(key) <= 1000000 :\r\n",
    "        milione += feeratecounter[key]\r\n",
    "    if int(key) <= 10000000 :\r\n",
    "        dieciM += feeratecounter[key]\r\n",
    "    if int(key) <= 1000000000 :\r\n",
    "        miliardo += feeratecounter[key]\r\n",
    "        \r\n",
    "        \r\n",
    "print(\"La percentuale di canali con feerate <= 1 è \", str(round(uno*100/len(feerate),3)), \"%\")\r\n",
    "print(\"La percentuale di canali con feerate <= 10 è \", str(round(dieci*100/len(feerate),3)), \"%\")\r\n",
    "print(\"La percentuale di canali con feerate <= 100 è \", str(round(cento*100/len(feerate),3)), \"%\")\r\n",
    "print(\"La percentuale di canali con feerate <= 1000 è \", str(round(mille*100/len(feerate),3)), \"%\")\r\n",
    "print(\"La percentuale di canali con feerate <= 10000 è \", str(round(diecik*100/len(feerate),3)), \"%\")\r\n",
    "print(\"La percentuale di canali con feerate <= 100000 è \", str(round(centok*100/len(feerate),3)), \"%\")\r\n",
    "print(\"La percentuale di canali con feerate <= 1000000 è \", str(round(milione*100/len(feerate),3)), \"%\")\r\n",
    "print(\"La percentuale di canali con feerate <= 10000000 è \", str(round(dieciM*100/len(feerate),3)), \"%\")\r\n",
    "print(\"La percentuale di canali con feerate <= 1000000000 è \", str(round(miliardo*100/len(feerate),3)), \"%\")"
   ],
   "outputs": [
    {
     "output_type": "stream",
     "name": "stdout",
     "text": [
      "La percentuale di canali con feerate <= 1 è  63.441 %\n",
      "La percentuale di canali con feerate <= 10 è  68.719 %\n",
      "La percentuale di canali con feerate <= 100 è  79.275 %\n",
      "La percentuale di canali con feerate <= 1000 è  96.043 %\n",
      "La percentuale di canali con feerate <= 10000 è  99.465 %\n",
      "La percentuale di canali con feerate <= 100000 è  99.881 %\n",
      "La percentuale di canali con feerate <= 1000000 è  99.95 %\n",
      "La percentuale di canali con feerate <= 10000000 è  99.962 %\n",
      "La percentuale di canali con feerate <= 1000000000 è  99.998 %\n"
     ]
    }
   ],
   "metadata": {}
  },
  {
   "cell_type": "markdown",
   "source": [
    "# ***ROOTS***"
   ],
   "metadata": {}
  },
  {
   "cell_type": "code",
   "execution_count": 18,
   "source": [
    "root_prop= {} #struttura per memorizzare i nodi radice e le loro proprietà\r\n",
    "\r\n",
    "for node in ln.nodes():\r\n",
    "    \r\n",
    "    for n in ln.neighbors(node): #scorro i vicini\r\n",
    "        if ln.degree(n) == 1: #se almeno un vicino è una rosa avrò nel dict \"root_prop\" un campo relativo al nodo node\r\n",
    "            root_prop[node] = {'degree': int, 'roses': [], 'blue': [], 'percent_roses': int } \r\n",
    "    \r\n",
    "    #if one == 1: #se tutti i vicini hanno grado = 1 (sono rose)\r\n",
    "        \r\n",
    "\r\n",
    "for node in root_prop.keys():\r\n",
    "    for n in ln.neighbors(node): \r\n",
    "        if ln.degree(n) == 1:\r\n",
    "            root_prop[node]['roses'].append(n) #roses contiene i vicini che sono rose (grado=1)\r\n",
    "        else:\r\n",
    "            root_prop[node]['blue'].append(n) #blue contiene i vicini che non sono rose (grado >1)\r\n",
    "                \r\n",
    "    \r\n",
    "    root_prop[node]['degree'] = (ln.degree(node))\r\n",
    "    #percent_roses rappresenta in percentuale la proporzione di rose a cui il nodo è collegato rispetto ai nodi blue\r\n",
    "    root_prop[node]['percent_roses']=(float(len(root_prop[node]['roses']) / ln.degree(node) * 100)) "
   ],
   "outputs": [],
   "metadata": {}
  },
  {
   "cell_type": "code",
   "execution_count": 19,
   "source": [
    "print(len(root_prop))"
   ],
   "outputs": [
    {
     "output_type": "stream",
     "name": "stdout",
     "text": [
      "1043\n"
     ]
    }
   ],
   "metadata": {}
  },
  {
   "cell_type": "code",
   "execution_count": 20,
   "source": [
    "#memorizzo la componente principale\r\n",
    "largest_component = ln.subgraph(max(nx.connected_components(ln),key=len))\r\n",
    "nx.write_gml(largest_component, \"largest_component.gml\") "
   ],
   "outputs": [],
   "metadata": {}
  },
  {
   "cell_type": "code",
   "execution_count": 21,
   "source": [
    "ln_largest = nx.read_gml(\"largest_component.gml\")"
   ],
   "outputs": [],
   "metadata": {}
  },
  {
   "cell_type": "code",
   "execution_count": 73,
   "source": [
    "#applico l'algoritmo di ricerca dei nodi radice solo alla componente principale, mi aspetto che vengano individuati meno nodi \r\n",
    "#rispetto al caso precedente che presumibilmente individuava anche i nodi \"nel contorno della rete\"\r\n",
    "\r\n",
    "root_prop_largest = {} #struttura per memorizzare i nodi radice e le loro proprietà\r\n",
    "\r\n",
    "nodes = [node for node in largest_component.nodes()]# if largest_component.degree(node) >=2]\r\n",
    "\r\n",
    "for node in nodes:\r\n",
    "    for n in largest_component.neighbors(node): #scorro i vicini\r\n",
    "        if largest_component.degree(n) == 1: #se almeno un vicino è una rosa avrò nel dict \"root_prop\" un campo relativo al nodo node\r\n",
    "            root_prop_largest[node] = {'degree': int, 'roses': [], 'due': [], 'blue': [], 'percent_roses': int} \r\n",
    "        \r\n",
    "\r\n",
    "for node in root_prop_largest.keys():\r\n",
    "    for n in largest_component.neighbors(node): \r\n",
    "        if largest_component.degree(n) == 1:\r\n",
    "            root_prop_largest[node]['roses'].append(n) #roses contiene i vicini che sono rose (grado=1)\r\n",
    "        elif largest_component.degree(n) == 2:\r\n",
    "            root_prop_largest[node]['due'].append(n) #roses contiene i vicini che sono rose (grado=1)\r\n",
    "        else:\r\n",
    "            root_prop_largest[node]['blue'].append(n) #blue contiene i vicini che non sono rose (grado >1)\r\n",
    "                \r\n",
    "    \r\n",
    "    root_prop_largest[node]['degree'] = largest_component.degree(node)\r\n",
    "    #percent_roses rappresenta in percentuale la proporzione di rose a cui il nodo è collegato rispetto ai nodi blue\r\n",
    "    root_prop_largest[node]['percent_roses'] = float(len(root_prop_largest[node]['roses']) / largest_component.degree(node) * 100)\r\n"
   ],
   "outputs": [],
   "metadata": {}
  },
  {
   "cell_type": "code",
   "execution_count": 74,
   "source": [
    "len(root_prop_largest)"
   ],
   "outputs": [
    {
     "output_type": "execute_result",
     "data": {
      "text/plain": [
       "1602"
      ]
     },
     "metadata": {},
     "execution_count": 74
    }
   ],
   "metadata": {}
  },
  {
   "cell_type": "markdown",
   "source": [
    "### Aggiungo attributo 'ISROOT' ai nodi radice per visualizzazione con graphia"
   ],
   "metadata": {}
  },
  {
   "cell_type": "code",
   "execution_count": 71,
   "source": [
    "node_attr = {}\r\n",
    "\r\n",
    "for node in largest_component.nodes():\r\n",
    "    new = {'ISROOT' : 1 if node in root_prop_largest.keys() else 0}\r\n",
    "    node_attr[node] = new\r\n",
    "nx.set_node_attributes(largest_component, node_attr)\r\n"
   ],
   "outputs": [],
   "metadata": {}
  },
  {
   "cell_type": "code",
   "execution_count": 72,
   "source": [
    "nx.write_gml(largest_component, \"grafo_root.gml\")"
   ],
   "outputs": [],
   "metadata": {}
  },
  {
   "cell_type": "code",
   "execution_count": null,
   "source": [],
   "outputs": [],
   "metadata": {}
  },
  {
   "cell_type": "code",
   "execution_count": 46,
   "source": [
    "#?\r\n",
    "#memorizzo i nodi che sono collegati a più nodi rossi (rose) che blu\r\n",
    "selected_nodes = {}\r\n",
    "\r\n",
    "for node in root_prop_largest.keys():\r\n",
    "    if(root_prop_largest[node]['percent_roses'] > 40 and largest_component.degree(node) >=4 ):\r\n",
    "        selected_nodes[node]= root_prop_largest[node]"
   ],
   "outputs": [],
   "metadata": {}
  },
  {
   "cell_type": "code",
   "execution_count": 47,
   "source": [
    "len(selected_nodes)"
   ],
   "outputs": [
    {
     "output_type": "execute_result",
     "data": {
      "text/plain": [
       "30"
      ]
     },
     "metadata": {},
     "execution_count": 47
    }
   ],
   "metadata": {}
  },
  {
   "cell_type": "markdown",
   "source": [],
   "metadata": {}
  },
  {
   "cell_type": "code",
   "execution_count": 48,
   "source": [
    "#provo ad individuare altri nodi radice\r\n",
    "bouquet_roots = {}\r\n",
    "\r\n",
    "for n in largest_component.nodes():\r\n",
    "    #considero come rose nodi di grado 2 \r\n",
    "    roses = [nbr for nbr in largest_component.neighbors(n) if largest_component.degree(nbr) == 2]\r\n",
    "\r\n",
    "    if(len(roses) == 2):\r\n",
    "        \r\n",
    "        bouquet_roots[n] = {'degree' : int, 'roses2': []}\r\n",
    "\r\n",
    "        bouquet_roots[n]['degree'] = (largest_component.degree(n))\r\n",
    "        bouquet_roots[n]['roses2'].append(roses[0])\r\n",
    "        bouquet_roots[n]['roses2'].append(roses[1])\r\n"
   ],
   "outputs": [],
   "metadata": {}
  },
  {
   "cell_type": "code",
   "execution_count": 49,
   "source": [
    "roots2 = {}\r\n",
    "nodi = []\r\n",
    "\r\n",
    "for n in bouquet_roots.keys():\r\n",
    "\r\n",
    "    roots2[n] = {'neig_0' : [], 'neig_1': []}\r\n",
    "\r\n",
    "    n0 = [nbr for nbr in largest_component.neighbors(bouquet_roots[n]['roses2'][0])]\r\n",
    "    n1 = [nbr for nbr in largest_component.neighbors(bouquet_roots[n]['roses2'][1])]\r\n",
    "\r\n",
    "    roots2[n]['neig_0'] = n0\r\n",
    "    roots2[n]['neig_1'] = n1\r\n",
    "\r\n",
    "    if( bouquet_roots[n]['roses2'][1] in n0 and n in n0 and bouquet_roots[n]['roses2'][0] in n1 and n in n1):\r\n",
    "        nodi.append(n)"
   ],
   "outputs": [],
   "metadata": {}
  },
  {
   "cell_type": "code",
   "execution_count": 65,
   "source": [
    "#provo a trovare altri nodi radice:\r\n",
    "\r\n",
    "roots = []\r\n",
    "for n in largest_component.nodes(): #per ogni nodo del grafo\r\n",
    "    if n not in root_prop_largest.keys(): #se non compare nella struttura dei nodi roots\r\n",
    "\r\n",
    "        neighborgs = [nbr for nbr in largest_component.neighbors(n)] #memorizzo i suoi vicini\r\n",
    "\r\n",
    "        #se tra i vicini del nodo ci sono almeno 3 nodi radice \r\n",
    "        if(len(set(neighborgs) & set(root_prop_largest.keys())) >=5 and largest_component.degree(n) <=5) :\r\n",
    "            roots.append(n)\r\n"
   ],
   "outputs": [],
   "metadata": {}
  },
  {
   "cell_type": "code",
   "execution_count": 66,
   "source": [
    "len(roots)"
   ],
   "outputs": [
    {
     "output_type": "execute_result",
     "data": {
      "text/plain": [
       "90"
      ]
     },
     "metadata": {},
     "execution_count": 66
    }
   ],
   "metadata": {}
  },
  {
   "cell_type": "code",
   "execution_count": null,
   "source": [],
   "outputs": [],
   "metadata": {}
  },
  {
   "cell_type": "code",
   "execution_count": 67,
   "source": [
    "node_attr = {}\r\n",
    "\r\n",
    "for node in largest_component.nodes():\r\n",
    "    new = {'ISROOT' : 1 if node in root_prop_largest.keys() or node in roots else 0}\r\n",
    "    node_attr[node] = new\r\n",
    "nx.set_node_attributes(largest_component, node_attr)\r\n"
   ],
   "outputs": [],
   "metadata": {}
  },
  {
   "cell_type": "code",
   "execution_count": 68,
   "source": [
    "nx.write_gml(largest_component, \"grafo_root2.gml\")"
   ],
   "outputs": [],
   "metadata": {}
  }
 ],
 "metadata": {
  "interpreter": {
   "hash": "90e315135b2281b752a7f250632c791a0dae1003299eabe9b8abad9d58b3e8e7"
  },
  "kernelspec": {
   "name": "python3",
   "display_name": "Python 3.8.8 64-bit ('base': conda)"
  },
  "language_info": {
   "codemirror_mode": {
    "name": "ipython",
    "version": 3
   },
   "file_extension": ".py",
   "mimetype": "text/x-python",
   "name": "python",
   "nbconvert_exporter": "python",
   "pygments_lexer": "ipython3",
   "version": "3.8.8"
  }
 },
 "nbformat": 4,
 "nbformat_minor": 5
}